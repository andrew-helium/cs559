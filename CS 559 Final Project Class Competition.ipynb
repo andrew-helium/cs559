{
 "cells": [
  {
   "cell_type": "markdown",
   "id": "35172613",
   "metadata": {},
   "source": [
    "# CS 559 Final Project Class Competition"
   ]
  },
  {
   "cell_type": "markdown",
   "id": "226ce410",
   "metadata": {},
   "source": [
    "## Andrew He, Sumanth Reddy Bandi, Thresha Voddiboina"
   ]
  },
  {
   "cell_type": "markdown",
   "id": "56f81f74",
   "metadata": {},
   "source": [
    "### I pledge my honor that I have abided by the Stevens Honor System."
   ]
  },
  {
   "cell_type": "code",
   "execution_count": 1,
   "id": "0f359645",
   "metadata": {},
   "outputs": [],
   "source": [
    "import numpy as np\n",
    "import pandas as pd\n",
    "import seaborn as sns\n",
    "import matplotlib.pyplot as plt"
   ]
  },
  {
   "cell_type": "markdown",
   "id": "24a3af19",
   "metadata": {},
   "source": [
    "### Helpful Discussion Posts Utilized to Aid Preprocessing"
   ]
  },
  {
   "cell_type": "markdown",
   "id": "553da26c",
   "metadata": {},
   "source": [
    "Visualizations, Assumptions about CryoSleep and VIP status based on Expenditure\n",
    "https://www.kaggle.com/competitions/spaceship-titanic/discussion/406263"
   ]
  },
  {
   "cell_type": "markdown",
   "id": "8f963789",
   "metadata": {},
   "source": [
    "Creating new features based on number of passengers in the same group/cabin https://www.kaggle.com/competitions/spaceship-titanic/discussion/399288"
   ]
  },
  {
   "cell_type": "markdown",
   "id": "f38fae7c",
   "metadata": {},
   "source": [
    "General rules for imputing missing values https://www.kaggle.com/competitions/spaceship-titanic/discussion/315987"
   ]
  },
  {
   "cell_type": "markdown",
   "id": "555db2bc",
   "metadata": {},
   "source": [
    "## Preprocessing (Andrew)"
   ]
  },
  {
   "cell_type": "code",
   "execution_count": 2,
   "id": "0483643d",
   "metadata": {},
   "outputs": [],
   "source": [
    "train = pd.read_csv('train_.csv')\n",
    "valid = pd.read_csv('validation_.csv')\n",
    "test = pd.read_csv('test_.csv')"
   ]
  },
  {
   "cell_type": "code",
   "execution_count": 3,
   "id": "d52cc4a8",
   "metadata": {},
   "outputs": [],
   "source": [
    "# For visualization of entire dataset and to make preprocessing easier, combine the training, validation, and test sets\n",
    "data = pd.concat([train, valid, test])\n",
    "data.reset_index(drop = True, inplace = True)"
   ]
  },
  {
   "cell_type": "code",
   "execution_count": 4,
   "id": "3a70d929",
   "metadata": {
    "scrolled": false
   },
   "outputs": [
    {
     "name": "stdout",
     "output_type": "stream",
     "text": [
      "<class 'pandas.core.frame.DataFrame'>\n",
      "RangeIndex: 8693 entries, 0 to 8692\n",
      "Data columns (total 14 columns):\n",
      " #   Column        Non-Null Count  Dtype  \n",
      "---  ------        --------------  -----  \n",
      " 0   PassengerId   8693 non-null   object \n",
      " 1   HomePlanet    8492 non-null   object \n",
      " 2   CryoSleep     8476 non-null   object \n",
      " 3   Cabin         8494 non-null   object \n",
      " 4   Destination   8511 non-null   object \n",
      " 5   Age           8514 non-null   float64\n",
      " 6   VIP           8490 non-null   object \n",
      " 7   RoomService   8512 non-null   float64\n",
      " 8   FoodCourt     8510 non-null   float64\n",
      " 9   ShoppingMall  8485 non-null   float64\n",
      " 10  Spa           8510 non-null   float64\n",
      " 11  VRDeck        8505 non-null   float64\n",
      " 12  Name          8493 non-null   object \n",
      " 13  Transported   8693 non-null   bool   \n",
      "dtypes: bool(1), float64(6), object(7)\n",
      "memory usage: 891.5+ KB\n"
     ]
    }
   ],
   "source": [
    "data.info()"
   ]
  },
  {
   "cell_type": "code",
   "execution_count": 5,
   "id": "e237c8a6",
   "metadata": {
    "scrolled": true
   },
   "outputs": [
    {
     "data": {
      "text/html": [
       "<div>\n",
       "<style scoped>\n",
       "    .dataframe tbody tr th:only-of-type {\n",
       "        vertical-align: middle;\n",
       "    }\n",
       "\n",
       "    .dataframe tbody tr th {\n",
       "        vertical-align: top;\n",
       "    }\n",
       "\n",
       "    .dataframe thead th {\n",
       "        text-align: right;\n",
       "    }\n",
       "</style>\n",
       "<table border=\"1\" class=\"dataframe\">\n",
       "  <thead>\n",
       "    <tr style=\"text-align: right;\">\n",
       "      <th></th>\n",
       "      <th>PassengerId</th>\n",
       "      <th>HomePlanet</th>\n",
       "      <th>CryoSleep</th>\n",
       "      <th>Cabin</th>\n",
       "      <th>Destination</th>\n",
       "      <th>Age</th>\n",
       "      <th>VIP</th>\n",
       "      <th>RoomService</th>\n",
       "      <th>FoodCourt</th>\n",
       "      <th>ShoppingMall</th>\n",
       "      <th>Spa</th>\n",
       "      <th>VRDeck</th>\n",
       "      <th>Name</th>\n",
       "      <th>Transported</th>\n",
       "    </tr>\n",
       "  </thead>\n",
       "  <tbody>\n",
       "    <tr>\n",
       "      <th>0</th>\n",
       "      <td>3856_01</td>\n",
       "      <td>Earth</td>\n",
       "      <td>False</td>\n",
       "      <td>F/726/S</td>\n",
       "      <td>NaN</td>\n",
       "      <td>23.0</td>\n",
       "      <td>False</td>\n",
       "      <td>339.0</td>\n",
       "      <td>754.0</td>\n",
       "      <td>7.0</td>\n",
       "      <td>0.0</td>\n",
       "      <td>0.0</td>\n",
       "      <td>Ward Alvasquez</td>\n",
       "      <td>True</td>\n",
       "    </tr>\n",
       "    <tr>\n",
       "      <th>1</th>\n",
       "      <td>6110_01</td>\n",
       "      <td>Earth</td>\n",
       "      <td>False</td>\n",
       "      <td>E/389/P</td>\n",
       "      <td>55 Cancri e</td>\n",
       "      <td>57.0</td>\n",
       "      <td>False</td>\n",
       "      <td>0.0</td>\n",
       "      <td>0.0</td>\n",
       "      <td>0.0</td>\n",
       "      <td>0.0</td>\n",
       "      <td>642.0</td>\n",
       "      <td>Sus Warrishales</td>\n",
       "      <td>True</td>\n",
       "    </tr>\n",
       "    <tr>\n",
       "      <th>2</th>\n",
       "      <td>6908_01</td>\n",
       "      <td>Europa</td>\n",
       "      <td>False</td>\n",
       "      <td>C/254/S</td>\n",
       "      <td>TRAPPIST-1e</td>\n",
       "      <td>60.0</td>\n",
       "      <td>False</td>\n",
       "      <td>0.0</td>\n",
       "      <td>960.0</td>\n",
       "      <td>46.0</td>\n",
       "      <td>854.0</td>\n",
       "      <td>17074.0</td>\n",
       "      <td>Sheleon Swinvul</td>\n",
       "      <td>False</td>\n",
       "    </tr>\n",
       "    <tr>\n",
       "      <th>3</th>\n",
       "      <td>5628_01</td>\n",
       "      <td>Earth</td>\n",
       "      <td>True</td>\n",
       "      <td>G/900/P</td>\n",
       "      <td>TRAPPIST-1e</td>\n",
       "      <td>27.0</td>\n",
       "      <td>False</td>\n",
       "      <td>0.0</td>\n",
       "      <td>0.0</td>\n",
       "      <td>0.0</td>\n",
       "      <td>0.0</td>\n",
       "      <td>0.0</td>\n",
       "      <td>Ebonya Potthews</td>\n",
       "      <td>False</td>\n",
       "    </tr>\n",
       "    <tr>\n",
       "      <th>4</th>\n",
       "      <td>1193_02</td>\n",
       "      <td>Europa</td>\n",
       "      <td>True</td>\n",
       "      <td>B/50/S</td>\n",
       "      <td>55 Cancri e</td>\n",
       "      <td>25.0</td>\n",
       "      <td>False</td>\n",
       "      <td>0.0</td>\n",
       "      <td>0.0</td>\n",
       "      <td>0.0</td>\n",
       "      <td>0.0</td>\n",
       "      <td>0.0</td>\n",
       "      <td>Solam Presstic</td>\n",
       "      <td>True</td>\n",
       "    </tr>\n",
       "  </tbody>\n",
       "</table>\n",
       "</div>"
      ],
      "text/plain": [
       "  PassengerId HomePlanet CryoSleep    Cabin  Destination   Age    VIP  \\\n",
       "0     3856_01      Earth     False  F/726/S          NaN  23.0  False   \n",
       "1     6110_01      Earth     False  E/389/P  55 Cancri e  57.0  False   \n",
       "2     6908_01     Europa     False  C/254/S  TRAPPIST-1e  60.0  False   \n",
       "3     5628_01      Earth      True  G/900/P  TRAPPIST-1e  27.0  False   \n",
       "4     1193_02     Europa      True   B/50/S  55 Cancri e  25.0  False   \n",
       "\n",
       "   RoomService  FoodCourt  ShoppingMall    Spa   VRDeck             Name  \\\n",
       "0        339.0      754.0           7.0    0.0      0.0   Ward Alvasquez   \n",
       "1          0.0        0.0           0.0    0.0    642.0  Sus Warrishales   \n",
       "2          0.0      960.0          46.0  854.0  17074.0  Sheleon Swinvul   \n",
       "3          0.0        0.0           0.0    0.0      0.0  Ebonya Potthews   \n",
       "4          0.0        0.0           0.0    0.0      0.0   Solam Presstic   \n",
       "\n",
       "   Transported  \n",
       "0         True  \n",
       "1         True  \n",
       "2        False  \n",
       "3        False  \n",
       "4         True  "
      ]
     },
     "execution_count": 5,
     "metadata": {},
     "output_type": "execute_result"
    }
   ],
   "source": [
    "data.head()"
   ]
  },
  {
   "cell_type": "markdown",
   "id": "91f0ce54",
   "metadata": {},
   "source": [
    "### General Visualizations"
   ]
  },
  {
   "cell_type": "code",
   "execution_count": 6,
   "id": "cb14b6e9",
   "metadata": {
    "scrolled": false
   },
   "outputs": [
    {
     "data": {
      "image/png": "[encoded data removed]",
      "text/plain": [
       "<Figure size 432x432 with 1 Axes>"
      ]
     },
     "metadata": {},
     "output_type": "display_data"
    }
   ],
   "source": [
    "plt.figure(figsize=(6,6))\n",
    "data['Transported'].value_counts().plot.pie(autopct='%1.1f%%', textprops={'fontsize':16}).set_title(\"Target distribution\")\n",
    "plt.show()"
   ]
  },
  {
   "cell_type": "markdown",
   "id": "dc7e997e",
   "metadata": {},
   "source": [
    "The distribution of passengers who were transported and those who were not is near equal."
   ]
  },
  {
   "cell_type": "code",
   "execution_count": 7,
   "id": "32350b9f",
   "metadata": {
    "scrolled": true
   },
   "outputs": [
    {
     "data": {
      "image/png": "[encoded data removed]",
      "text/plain": [
       "<Figure size 720x288 with 1 Axes>"
      ]
     },
     "metadata": {
      "needs_background": "light"
     },
     "output_type": "display_data"
    }
   ],
   "source": [
    "# Histogram of Ages\n",
    "plt.figure(figsize=(10,4))\n",
    "\n",
    "sns.histplot(data=data, x='Age', hue='Transported', binwidth=1, kde=True)\n",
    "plt.title('Age distribution')\n",
    "plt.xlabel('Age (years)')\n",
    "plt.show()"
   ]
  },
  {
   "cell_type": "markdown",
   "id": "487500b0",
   "metadata": {},
   "source": [
    "Passengers who are children are more likely to be transported, and passengers in their twenties and early thirties are less likely to be transported."
   ]
  },
  {
   "cell_type": "code",
   "execution_count": 8,
   "id": "0f2fecf9",
   "metadata": {
    "scrolled": false
   },
   "outputs": [
    {
     "data": {
      "image/png": "[encoded data removed]",
      "text/plain": [
       "<Figure size 720x1440 with 10 Axes>"
      ]
     },
     "metadata": {
      "needs_background": "light"
     },
     "output_type": "display_data"
    }
   ],
   "source": [
    "# Expenditure features\n",
    "exp_feats=['RoomService', 'FoodCourt', 'ShoppingMall', 'Spa', 'VRDeck']\n",
    "\n",
    "# Plot expenditure features\n",
    "fig=plt.figure(figsize=(10,20))\n",
    "for i, var_name in enumerate(exp_feats):\n",
    "    # Left plot\n",
    "    ax=fig.add_subplot(5,2,2*i+1)\n",
    "    sns.histplot(data=data, x=var_name, axes=ax, bins=30, hue='Transported')\n",
    "    ax.set_title(var_name)\n",
    "    \n",
    "    # Right plot (truncated)\n",
    "    ax=fig.add_subplot(5,2,2*i+2)\n",
    "    sns.histplot(data=data, x=var_name, axes=ax, bins=30, hue='Transported')\n",
    "    plt.ylim([0,100])\n",
    "    ax.set_title(var_name)\n",
    "\n",
    "fig.tight_layout()\n",
    "plt.show()"
   ]
  },
  {
   "cell_type": "markdown",
   "id": "3d0fdb1c",
   "metadata": {},
   "source": [
    "We can see that all of the expenditure features have a large number of passengers who spent little to no money, and that passengers who spent less were more likely to be transported. The RoomService, Spa and VRDeck features illustrate this far better than the FoodCourt and ShoppingMall features."
   ]
  },
  {
   "cell_type": "code",
   "execution_count": 9,
   "id": "629eb50c",
   "metadata": {
    "scrolled": false
   },
   "outputs": [
    {
     "data": {
      "image/png": "[encoded data removed]",
      "text/plain": [
       "<Figure size 720x1152 with 4 Axes>"
      ]
     },
     "metadata": {
      "needs_background": "light"
     },
     "output_type": "display_data"
    }
   ],
   "source": [
    "# Categorical features\n",
    "cat_feats=['HomePlanet', 'CryoSleep', 'Destination', 'VIP']\n",
    "\n",
    "# Plot categorical features\n",
    "fig=plt.figure(figsize=(10,16))\n",
    "for i, var_name in enumerate(cat_feats):\n",
    "    ax=fig.add_subplot(4,1,i+1)\n",
    "    sns.countplot(data=data, x=var_name, axes=ax, hue='Transported')\n",
    "    ax.set_title(var_name)\n",
    "fig.tight_layout()\n",
    "plt.show()"
   ]
  },
  {
   "cell_type": "markdown",
   "id": "bac91daa",
   "metadata": {},
   "source": [
    "Passengers from Earth were less likely to be transported, passengers from Europa were more likely to be transported, and passengers from Mars were about equally likely to be transported or not transported.\n",
    "\n",
    "Passengers who were in CryoSleep were more likely to be transported, and those were not in CryoSleep were less likely to be transported.\n",
    "\n",
    "Passengers who were headed to 55 Cancri e were more likely to be transported, passengers headed to TRAPPIST-1e were less likely to be transported, and those headed to PSO J318.5-22 were about equally likely to be transported or not transported.\n",
    "\n",
    "VIP status did not seem to influence whether a passenger was transported or not."
   ]
  },
  {
   "cell_type": "markdown",
   "id": "4ea25bd0",
   "metadata": {},
   "source": [
    "### Missing Values and Feature Engineering"
   ]
  },
  {
   "cell_type": "code",
   "execution_count": 10,
   "id": "8e51206a",
   "metadata": {
    "scrolled": true
   },
   "outputs": [
    {
     "data": {
      "text/plain": [
       "PassengerId       0\n",
       "HomePlanet      201\n",
       "CryoSleep       217\n",
       "Cabin           199\n",
       "Destination     182\n",
       "Age             179\n",
       "VIP             203\n",
       "RoomService     181\n",
       "FoodCourt       183\n",
       "ShoppingMall    208\n",
       "Spa             183\n",
       "VRDeck          188\n",
       "Name            200\n",
       "Transported       0\n",
       "dtype: int64"
      ]
     },
     "execution_count": 10,
     "metadata": {},
     "output_type": "execute_result"
    }
   ],
   "source": [
    "data.isnull().sum()"
   ]
  },
  {
   "cell_type": "markdown",
   "id": "5a720cf0",
   "metadata": {},
   "source": [
    "#### PassengerId and Cabin"
   ]
  },
  {
   "cell_type": "code",
   "execution_count": 11,
   "id": "b5cbb8b1",
   "metadata": {},
   "outputs": [],
   "source": [
    "# Each 'PassengerId' takes the form gggg_pp where gggg indicates a group the passenger is travelling with and\n",
    "# pp is their number within the group. People in a group are often family members, but not always.\n",
    "\n",
    "# Create a new column with the group number\n",
    "data[\"Group\"] = data[\"PassengerId\"].str[:-3].astype(int)"
   ]
  },
  {
   "cell_type": "markdown",
   "id": "eb13f2c8",
   "metadata": {},
   "source": [
    "There are no missing passenger id's, so no group numbers are missing."
   ]
  },
  {
   "cell_type": "markdown",
   "id": "2d2d64f3",
   "metadata": {},
   "source": [
    "The 'Cabin' column takes the form deck/num/side, where side can be either P for Port or S for Starboard, so we can split it into three different columns."
   ]
  },
  {
   "cell_type": "code",
   "execution_count": 12,
   "id": "40b1c9dc",
   "metadata": {},
   "outputs": [],
   "source": [
    "data[[\"Deck\", \"Num\", \"Side\"]] = data[\"Cabin\"].str.split(\"/\", expand=True)"
   ]
  },
  {
   "cell_type": "markdown",
   "id": "d24a99bc",
   "metadata": {},
   "source": [
    "#### Creating New Features for the Number of Passengers in the Same Group/Cabin"
   ]
  },
  {
   "cell_type": "code",
   "execution_count": 13,
   "id": "95ce7e8d",
   "metadata": {
    "scrolled": true
   },
   "outputs": [
    {
     "data": {
      "image/png": "[encoded data removed]",
      "text/plain": [
       "<Figure size 1440x288 with 1 Axes>"
      ]
     },
     "metadata": {
      "needs_background": "light"
     },
     "output_type": "display_data"
    }
   ],
   "source": [
    "# Calculating number of passengers in each group and joining back with data to get a feature 'Group Size'\n",
    "group_wise=data[['Group','PassengerId']].groupby(['Group']).count().rename(columns={\"PassengerId\":\"Group Size\"})\n",
    "data=pd.merge(data,group_wise,how=\"left\",left_on=\"Group\",right_index=True)\n",
    "\n",
    "# Distribution\n",
    "plt.figure(figsize=(20,4))\n",
    "sns.countplot(data=data, x='Group Size', hue='Transported')\n",
    "plt.title('Group Size')\n",
    "plt.show()"
   ]
  },
  {
   "cell_type": "markdown",
   "id": "466b166a",
   "metadata": {},
   "source": [
    "We can see there may be some relationship bewteen the number of passengers in a group and their survival rate. Both passengers in their own group and very large groups were less likely to be transported than not transported, and medium-sized groups were more likely to be transported than not transported."
   ]
  },
  {
   "cell_type": "code",
   "execution_count": 14,
   "id": "5a4da431",
   "metadata": {
    "scrolled": false
   },
   "outputs": [
    {
     "data": {
      "image/png": "[encoded data removed]",
      "text/plain": [
       "<Figure size 720x288 with 1 Axes>"
      ]
     },
     "metadata": {
      "needs_background": "light"
     },
     "output_type": "display_data"
    }
   ],
   "source": [
    "# Calculating number of passengers in each cabin and joining back with data to get a feature 'Cabin Size'\n",
    "cabin_wise=data[['Cabin','PassengerId']].groupby(['Cabin']).count().rename(columns={\"PassengerId\":\"Cabin Size\"})\n",
    "data=pd.merge(data,cabin_wise,how=\"left\",left_on=\"Cabin\",right_index=True)\n",
    "\n",
    "# Distribution\n",
    "plt.figure(figsize=(10,4))\n",
    "sns.countplot(data=data, x='Cabin Size', hue='Transported')\n",
    "plt.title('Cabin Size')\n",
    "plt.show()"
   ]
  },
  {
   "cell_type": "markdown",
   "id": "8e91e310",
   "metadata": {},
   "source": [
    "We see a similar trend for the number of passengers in the same cabin."
   ]
  },
  {
   "cell_type": "markdown",
   "id": "bd6fc4f5",
   "metadata": {},
   "source": [
    "#### Name"
   ]
  },
  {
   "cell_type": "code",
   "execution_count": 15,
   "id": "2e7c5452",
   "metadata": {},
   "outputs": [],
   "source": [
    "# Create a new column for the last names of passengers\n",
    "data['Last Name']=data['Name'].str.split().str[-1]"
   ]
  },
  {
   "cell_type": "markdown",
   "id": "6c7afc0f",
   "metadata": {},
   "source": [
    "We can fill in missing last names by observing the last names in each group. This will help us fill in missing values in other columns later on."
   ]
  },
  {
   "cell_type": "code",
   "execution_count": 16,
   "id": "02e7b310",
   "metadata": {
    "scrolled": true
   },
   "outputs": [
    {
     "data": {
      "image/png": "[encoded data removed]",
      "text/plain": [
       "<Figure size 720x288 with 1 Axes>"
      ]
     },
     "metadata": {
      "needs_background": "light"
     },
     "output_type": "display_data"
    }
   ],
   "source": [
    "# Joint distribution of Group and Last Name\n",
    "GLN_gb = data[data['Group Size']>1].groupby(['Group','Last Name'])['Last Name'].size().unstack().fillna(0)\n",
    "\n",
    "# Countplot of unique values\n",
    "plt.figure(figsize=(10,4))\n",
    "sns.countplot(x = (GLN_gb>0).sum(axis=1))\n",
    "plt.title('Number of unique last names by group')\n",
    "plt.show()"
   ]
  },
  {
   "cell_type": "markdown",
   "id": "93510f42",
   "metadata": {},
   "source": [
    "We can see that the vast majority of groups only have contain one family. Thus we can fill in missing last names using the most common last name in each group."
   ]
  },
  {
   "cell_type": "code",
   "execution_count": 17,
   "id": "76c64d1e",
   "metadata": {},
   "outputs": [
    {
     "name": "stdout",
     "output_type": "stream",
     "text": [
      "Last Name missing values before: 200\n",
      "Last Name missing values after: 104\n"
     ]
    }
   ],
   "source": [
    "# Missing values before\n",
    "LN_bef=data['Last Name'].isna().sum()\n",
    "\n",
    "# Passengers with missing Last Name and in a group with known majority Last Name\n",
    "GLN_index=data[data['Last Name'].isna()][(data[data['Last Name'].isna()]['Group']).isin(GLN_gb.index)].index\n",
    "\n",
    "# Fill corresponding missing values\n",
    "data.loc[GLN_index,'Last Name']=data.iloc[GLN_index,:]['Group'].map(lambda x: GLN_gb.idxmax(axis=1)[x])\n",
    "\n",
    "# Print number of missing values left\n",
    "print('Last Name missing values before:',LN_bef)\n",
    "print('Last Name missing values after:',data['Last Name'].isna().sum())"
   ]
  },
  {
   "cell_type": "markdown",
   "id": "c3a15326",
   "metadata": {},
   "source": [
    "The 'Last Name' column has many unique values and thus it is difficult to impute the remaining missing values using existing ones. Thus, we impute the missing last names with 'Unknown.'"
   ]
  },
  {
   "cell_type": "code",
   "execution_count": 18,
   "id": "61f294c5",
   "metadata": {
    "scrolled": true
   },
   "outputs": [
    {
     "data": {
      "text/plain": [
       "2217"
      ]
     },
     "execution_count": 18,
     "metadata": {},
     "output_type": "execute_result"
    }
   ],
   "source": [
    "data['Last Name'].nunique()"
   ]
  },
  {
   "cell_type": "code",
   "execution_count": 19,
   "id": "25109dd5",
   "metadata": {},
   "outputs": [],
   "source": [
    "# Impute missing values with 'Unknown', we won't use the 'Name' column anymore so we don't need to update it\n",
    "data['Last Name'] = data['Last Name'].fillna('Unknown')"
   ]
  },
  {
   "cell_type": "markdown",
   "id": "c843751e",
   "metadata": {},
   "source": [
    "Assuming that passengers with the same last name are from the same family, we can observe how family size influences whether a passenger is transported or not. This will also be used later to fill in missing values for the 'HomePlanet' column."
   ]
  },
  {
   "cell_type": "code",
   "execution_count": 20,
   "id": "90e2633e",
   "metadata": {},
   "outputs": [],
   "source": [
    "# Create a new feature for family size\n",
    "data['Family Size']=data['Last Name'].map(lambda x: data['Last Name'].value_counts()[x])"
   ]
  },
  {
   "cell_type": "code",
   "execution_count": 21,
   "id": "01a2b849",
   "metadata": {},
   "outputs": [],
   "source": [
    "# Reset missing last names and family size for missing values to NaN\n",
    "data.loc[data['Last Name'] == 'Unknown', 'Last Name'] = np.nan\n",
    "data.loc[data['Family Size']>100,'Family Size'] = np.nan"
   ]
  },
  {
   "cell_type": "code",
   "execution_count": 22,
   "id": "74107a76",
   "metadata": {
    "scrolled": true
   },
   "outputs": [
    {
     "data": {
      "image/png": "[encoded data removed]",
      "text/plain": [
       "<Figure size 864x288 with 1 Axes>"
      ]
     },
     "metadata": {
      "needs_background": "light"
     },
     "output_type": "display_data"
    }
   ],
   "source": [
    "# Plot Family Size\n",
    "plt.figure(figsize=(12,4))\n",
    "sns.countplot(data=data, x='Family Size', hue='Transported')\n",
    "plt.title('Family Size')\n",
    "plt.show()"
   ]
  },
  {
   "cell_type": "markdown",
   "id": "dab45ea3",
   "metadata": {},
   "source": [
    "There appears to be a very slight trend of larger families having a lower chance of being transported, and smaller families having a higher chance of being transported."
   ]
  },
  {
   "cell_type": "markdown",
   "id": "681dcb5f",
   "metadata": {},
   "source": [
    "#### Home Planet and Destination"
   ]
  },
  {
   "cell_type": "code",
   "execution_count": 23,
   "id": "1157d2fb",
   "metadata": {
    "scrolled": false
   },
   "outputs": [
    {
     "data": {
      "text/plain": [
       "Earth     4602\n",
       "Europa    2131\n",
       "Mars      1759\n",
       "Name: HomePlanet, dtype: int64"
      ]
     },
     "execution_count": 23,
     "metadata": {},
     "output_type": "execute_result"
    }
   ],
   "source": [
    "data['HomePlanet'].value_counts()"
   ]
  },
  {
   "cell_type": "code",
   "execution_count": 24,
   "id": "f9dd2ae9",
   "metadata": {
    "scrolled": true
   },
   "outputs": [
    {
     "data": {
      "text/plain": [
       "TRAPPIST-1e      5915\n",
       "55 Cancri e      1800\n",
       "PSO J318.5-22     796\n",
       "Name: Destination, dtype: int64"
      ]
     },
     "execution_count": 24,
     "metadata": {},
     "output_type": "execute_result"
    }
   ],
   "source": [
    "data['Destination'].value_counts()"
   ]
  },
  {
   "cell_type": "markdown",
   "id": "63f1be1f",
   "metadata": {},
   "source": [
    "Most of the values in the 'Destination' column are TRAPPIST-1e, so we impute the missing values with it."
   ]
  },
  {
   "cell_type": "code",
   "execution_count": 25,
   "id": "8c34ffbb",
   "metadata": {
    "scrolled": true
   },
   "outputs": [],
   "source": [
    "data['Destination'] = data['Destination'].fillna(\"TRAPPIST-1e\")"
   ]
  },
  {
   "cell_type": "markdown",
   "id": "6374c5b9",
   "metadata": {},
   "source": [
    "To fill in the missing home planets, we can look at how each passenger's home planet relates to their deck."
   ]
  },
  {
   "cell_type": "code",
   "execution_count": 26,
   "id": "efea413a",
   "metadata": {
    "scrolled": false
   },
   "outputs": [
    {
     "data": {
      "image/png": "[encoded data removed]",
      "text/plain": [
       "<Figure size 720x288 with 2 Axes>"
      ]
     },
     "metadata": {
      "needs_background": "light"
     },
     "output_type": "display_data"
    }
   ],
   "source": [
    "# Groupby of Deck and HomePlanet\n",
    "DHP_gb = data.groupby(['Deck','HomePlanet'])['HomePlanet'].size().unstack().fillna(0)\n",
    "\n",
    "# Heatmap of the groupby\n",
    "plt.figure(figsize=(10,4))\n",
    "sns.heatmap(DHP_gb.T, annot=True, fmt='g', cmap='coolwarm')\n",
    "plt.show()"
   ]
  },
  {
   "cell_type": "markdown",
   "id": "789c7da0",
   "metadata": {},
   "source": [
    "We can see that all passengers in decks, A, B, C, or T came from Europa and all passengers from deck G came from Earth. Thus we can fill in the missing home planets of passengers on decks A, B, C, G, and T."
   ]
  },
  {
   "cell_type": "code",
   "execution_count": 27,
   "id": "364f8666",
   "metadata": {},
   "outputs": [
    {
     "name": "stdout",
     "output_type": "stream",
     "text": [
      "HomePlanet missing values before: 201\n",
      "HomePlanet missing values after: 109\n"
     ]
    }
   ],
   "source": [
    "# Missing values before\n",
    "HP_bef=data['HomePlanet'].isna().sum()\n",
    "\n",
    "# Decks A, B, C or T came from Europa\n",
    "data.loc[(data['HomePlanet'].isna()) & (data['Deck'].isin(['A', 'B', 'C', 'T'])), 'HomePlanet'] = 'Europa'\n",
    "\n",
    "# Deck G came from Earth\n",
    "data.loc[(data['HomePlanet'].isna()) & (data['Deck']=='G'), 'HomePlanet'] = 'Earth'\n",
    "\n",
    "print('HomePlanet missing values before:',HP_bef)\n",
    "print('HomePlanet missing values after:',data['HomePlanet'].isna().sum())"
   ]
  },
  {
   "cell_type": "markdown",
   "id": "baa23671",
   "metadata": {},
   "source": [
    "Next, we can use the passengers' last names to show that passengers in the same family come from the same home planet."
   ]
  },
  {
   "cell_type": "code",
   "execution_count": 28,
   "id": "21fcead6",
   "metadata": {
    "scrolled": true
   },
   "outputs": [
    {
     "data": {
      "image/png": "[encoded data removed]",
      "text/plain": [
       "<Figure size 360x288 with 1 Axes>"
      ]
     },
     "metadata": {
      "needs_background": "light"
     },
     "output_type": "display_data"
    }
   ],
   "source": [
    "# Groupby of Last Name and HomePlanet\n",
    "LNHP_gb=data.groupby(['Last Name','HomePlanet'])['HomePlanet'].size().unstack().fillna(0)\n",
    "\n",
    "# Countplot of unique values\n",
    "plt.figure(figsize=(5,4))\n",
    "sns.countplot(x = (LNHP_gb>0).sum(axis=1))\n",
    "plt.title('Number of unique planets per surname')\n",
    "plt.show()"
   ]
  },
  {
   "cell_type": "markdown",
   "id": "266648a6",
   "metadata": {},
   "source": [
    "Therefore, we can fill in the missing home planets with the home planets of other passengers in the same family."
   ]
  },
  {
   "cell_type": "code",
   "execution_count": 29,
   "id": "c023bf47",
   "metadata": {
    "scrolled": false
   },
   "outputs": [
    {
     "name": "stdout",
     "output_type": "stream",
     "text": [
      "HomePlanet missing values before: 109\n",
      "HomePlanet missing values after: 8\n"
     ]
    }
   ],
   "source": [
    "# Missing values before\n",
    "HP_bef=data['HomePlanet'].isna().sum()\n",
    "\n",
    "# Passengers with missing HomePlanet and in a family with known HomePlanet\n",
    "LNHP_index=data[data['HomePlanet'].isna()][(data[data['HomePlanet'].isna()]['Last Name']).isin(LNHP_gb.index)].index\n",
    "\n",
    "# Fill corresponding missing values\n",
    "data.loc[LNHP_index,'HomePlanet']=data.iloc[LNHP_index,:]['Last Name'].map(lambda x: LNHP_gb.idxmax(axis=1)[x])\n",
    "\n",
    "# Print number of missing values left\n",
    "print('HomePlanet missing values before:',HP_bef)\n",
    "print('HomePlanet missing values after:',data['HomePlanet'].isna().sum())"
   ]
  },
  {
   "cell_type": "markdown",
   "id": "12c97039",
   "metadata": {},
   "source": [
    "Now we can look at the 8 remaining missing home planet values and the destination of those passengers, and look at the overall pattern of passengers' home planets and their destinations."
   ]
  },
  {
   "cell_type": "code",
   "execution_count": 30,
   "id": "1fdfb986",
   "metadata": {
    "scrolled": true
   },
   "outputs": [
    {
     "data": {
      "text/html": [
       "<div>\n",
       "<style scoped>\n",
       "    .dataframe tbody tr th:only-of-type {\n",
       "        vertical-align: middle;\n",
       "    }\n",
       "\n",
       "    .dataframe tbody tr th {\n",
       "        vertical-align: top;\n",
       "    }\n",
       "\n",
       "    .dataframe thead th {\n",
       "        text-align: right;\n",
       "    }\n",
       "</style>\n",
       "<table border=\"1\" class=\"dataframe\">\n",
       "  <thead>\n",
       "    <tr style=\"text-align: right;\">\n",
       "      <th></th>\n",
       "      <th>PassengerId</th>\n",
       "      <th>HomePlanet</th>\n",
       "      <th>Destination</th>\n",
       "      <th>Deck</th>\n",
       "    </tr>\n",
       "  </thead>\n",
       "  <tbody>\n",
       "    <tr>\n",
       "      <th>7</th>\n",
       "      <td>4840_01</td>\n",
       "      <td>NaN</td>\n",
       "      <td>TRAPPIST-1e</td>\n",
       "      <td>F</td>\n",
       "    </tr>\n",
       "    <tr>\n",
       "      <th>671</th>\n",
       "      <td>0242_01</td>\n",
       "      <td>NaN</td>\n",
       "      <td>TRAPPIST-1e</td>\n",
       "      <td>F</td>\n",
       "    </tr>\n",
       "    <tr>\n",
       "      <th>746</th>\n",
       "      <td>3331_01</td>\n",
       "      <td>NaN</td>\n",
       "      <td>TRAPPIST-1e</td>\n",
       "      <td>F</td>\n",
       "    </tr>\n",
       "    <tr>\n",
       "      <th>1199</th>\n",
       "      <td>2443_01</td>\n",
       "      <td>NaN</td>\n",
       "      <td>TRAPPIST-1e</td>\n",
       "      <td>D</td>\n",
       "    </tr>\n",
       "    <tr>\n",
       "      <th>2118</th>\n",
       "      <td>5989_01</td>\n",
       "      <td>NaN</td>\n",
       "      <td>TRAPPIST-1e</td>\n",
       "      <td>F</td>\n",
       "    </tr>\n",
       "    <tr>\n",
       "      <th>3162</th>\n",
       "      <td>6108_01</td>\n",
       "      <td>NaN</td>\n",
       "      <td>TRAPPIST-1e</td>\n",
       "      <td>F</td>\n",
       "    </tr>\n",
       "    <tr>\n",
       "      <th>4229</th>\n",
       "      <td>2817_01</td>\n",
       "      <td>NaN</td>\n",
       "      <td>TRAPPIST-1e</td>\n",
       "      <td>F</td>\n",
       "    </tr>\n",
       "    <tr>\n",
       "      <th>8629</th>\n",
       "      <td>5603_01</td>\n",
       "      <td>NaN</td>\n",
       "      <td>TRAPPIST-1e</td>\n",
       "      <td>E</td>\n",
       "    </tr>\n",
       "  </tbody>\n",
       "</table>\n",
       "</div>"
      ],
      "text/plain": [
       "     PassengerId HomePlanet  Destination Deck\n",
       "7        4840_01        NaN  TRAPPIST-1e    F\n",
       "671      0242_01        NaN  TRAPPIST-1e    F\n",
       "746      3331_01        NaN  TRAPPIST-1e    F\n",
       "1199     2443_01        NaN  TRAPPIST-1e    D\n",
       "2118     5989_01        NaN  TRAPPIST-1e    F\n",
       "3162     6108_01        NaN  TRAPPIST-1e    F\n",
       "4229     2817_01        NaN  TRAPPIST-1e    F\n",
       "8629     5603_01        NaN  TRAPPIST-1e    E"
      ]
     },
     "execution_count": 30,
     "metadata": {},
     "output_type": "execute_result"
    }
   ],
   "source": [
    "data[data['HomePlanet'].isna()][['PassengerId','HomePlanet','Destination', 'Deck']]"
   ]
  },
  {
   "cell_type": "code",
   "execution_count": 31,
   "id": "8fe3c539",
   "metadata": {
    "scrolled": true
   },
   "outputs": [
    {
     "data": {
      "image/png": "[encoded data removed]",
      "text/plain": [
       "<Figure size 720x288 with 2 Axes>"
      ]
     },
     "metadata": {
      "needs_background": "light"
     },
     "output_type": "display_data"
    }
   ],
   "source": [
    "# Groupby of HomePlanet and Destination\n",
    "HPD_gb=data.groupby(['HomePlanet','Destination'])['Destination'].size().unstack().fillna(0)\n",
    "\n",
    "# Heatmap of the groupby\n",
    "plt.figure(figsize=(10,4))\n",
    "sns.heatmap(HPD_gb.T, annot=True, fmt='g', cmap='coolwarm')\n",
    "plt.show()"
   ]
  },
  {
   "cell_type": "markdown",
   "id": "37dc4999",
   "metadata": {},
   "source": [
    "All of the passengers are headed towards TRAPPIST-1e, and most passengers from Earth go there. However, we need to keep in mind that passengers on Deck D are not from Earth, and fill in those passengers' home planets with Mars instead."
   ]
  },
  {
   "cell_type": "code",
   "execution_count": 32,
   "id": "ee7b0cfd",
   "metadata": {},
   "outputs": [
    {
     "name": "stdout",
     "output_type": "stream",
     "text": [
      "HomePlanet missing values before: 8\n",
      "HomePlanet missing values after: 0\n"
     ]
    }
   ],
   "source": [
    "# Missing values before\n",
    "HP_bef=data['HomePlanet'].isna().sum()\n",
    "\n",
    "# Fill remaining HomePlanet missing values with Earth (if not on deck D) or Mars (if on Deck D)\n",
    "data.loc[(data['HomePlanet'].isna()) & ~(data['Deck']=='D'), 'HomePlanet']='Earth'\n",
    "data.loc[(data['HomePlanet'].isna()) & (data['Deck']=='D'), 'HomePlanet']='Mars'\n",
    "\n",
    "# Print number of missing values left\n",
    "print('HomePlanet missing values before:',HP_bef)\n",
    "print('HomePlanet missing values after:',data['HomePlanet'].isna().sum())"
   ]
  },
  {
   "cell_type": "code",
   "execution_count": 33,
   "id": "9dc2a03d",
   "metadata": {
    "scrolled": false
   },
   "outputs": [
    {
     "data": {
      "text/plain": [
       "PassengerId       0\n",
       "HomePlanet        0\n",
       "CryoSleep       217\n",
       "Cabin           199\n",
       "Destination       0\n",
       "Age             179\n",
       "VIP             203\n",
       "RoomService     181\n",
       "FoodCourt       183\n",
       "ShoppingMall    208\n",
       "Spa             183\n",
       "VRDeck          188\n",
       "Name            200\n",
       "Transported       0\n",
       "Group             0\n",
       "Deck            199\n",
       "Num             199\n",
       "Side            199\n",
       "Group Size        0\n",
       "Cabin Size      199\n",
       "Last Name       104\n",
       "Family Size     104\n",
       "dtype: int64"
      ]
     },
     "execution_count": 33,
     "metadata": {},
     "output_type": "execute_result"
    }
   ],
   "source": [
    "data.isnull().sum()"
   ]
  },
  {
   "cell_type": "markdown",
   "id": "dd491422",
   "metadata": {},
   "source": [
    "#### Cabin"
   ]
  },
  {
   "cell_type": "code",
   "execution_count": 34,
   "id": "d9f3b83c",
   "metadata": {
    "scrolled": true
   },
   "outputs": [
    {
     "data": {
      "text/plain": [
       "F    2794\n",
       "G    2559\n",
       "E     876\n",
       "B     779\n",
       "C     747\n",
       "D     478\n",
       "A     256\n",
       "T       5\n",
       "Name: Deck, dtype: int64"
      ]
     },
     "execution_count": 34,
     "metadata": {},
     "output_type": "execute_result"
    }
   ],
   "source": [
    "data['Deck'].value_counts()"
   ]
  },
  {
   "cell_type": "code",
   "execution_count": 35,
   "id": "d09dfe6a",
   "metadata": {
    "scrolled": false
   },
   "outputs": [
    {
     "data": {
      "text/plain": [
       "S    4288\n",
       "P    4206\n",
       "Name: Side, dtype: int64"
      ]
     },
     "execution_count": 35,
     "metadata": {},
     "output_type": "execute_result"
    }
   ],
   "source": [
    "data['Side'].value_counts()"
   ]
  },
  {
   "cell_type": "code",
   "execution_count": 36,
   "id": "3b7bd6bf",
   "metadata": {
    "scrolled": false
   },
   "outputs": [
    {
     "data": {
      "image/png": "[encoded data removed]",
      "text/plain": [
       "<Figure size 720x864 with 3 Axes>"
      ]
     },
     "metadata": {
      "needs_background": "light"
     },
     "output_type": "display_data"
    }
   ],
   "source": [
    "fig=plt.figure(figsize=(10,12))\n",
    "\n",
    "# Deck distribution\n",
    "plt.subplot(3,1,1)\n",
    "sns.countplot(data=data, x='Deck', hue='Transported', order=['A','B','C','D','E','F','G','T'])\n",
    "plt.title('Cabin Deck')\n",
    "\n",
    "# Num distribution\n",
    "plt.subplot(3,1,2)\n",
    "sns.histplot(data=data, x='Num', hue='Transported',binwidth = 20)\n",
    "plt.title('Cabin Number')\n",
    "\n",
    "# Side distribution\n",
    "plt.subplot(3,1,3)\n",
    "sns.countplot(data=data, x='Side', hue='Transported')\n",
    "plt.title('Cabin Side')\n",
    "fig.tight_layout()"
   ]
  },
  {
   "cell_type": "markdown",
   "id": "e732b4b4",
   "metadata": {},
   "source": [
    "There appears to be some relationship between the cabin side/deck and whether that passenger was transported or not, but there doesn't appear to be much relationship between the cabin number and whether that passenger was transported or not."
   ]
  },
  {
   "cell_type": "markdown",
   "id": "1e81fa28",
   "metadata": {},
   "source": [
    "Based on the value counts, there aren't any decks or sides where the vast majority of passengers stay, so we can't impute with the mode. However, we can observe that passengers in the same group are on the same cabin side."
   ]
  },
  {
   "cell_type": "code",
   "execution_count": 37,
   "id": "288fd64e",
   "metadata": {
    "scrolled": true
   },
   "outputs": [
    {
     "data": {
      "image/png": "[encoded data removed]",
      "text/plain": [
       "<Figure size 360x288 with 1 Axes>"
      ]
     },
     "metadata": {
      "needs_background": "light"
     },
     "output_type": "display_data"
    }
   ],
   "source": [
    "# Groupby of Group and Side\n",
    "GS_gb=data[data['Group Size']>1].groupby(['Group','Side'])['Side'].size().unstack().fillna(0)\n",
    "\n",
    "plt.figure(figsize=(5,4))\n",
    "sns.countplot(x = (GS_gb>0).sum(axis=1))\n",
    "plt.title('Unique cabin sides per group')\n",
    "fig.tight_layout()"
   ]
  },
  {
   "cell_type": "code",
   "execution_count": 38,
   "id": "a21d3f37",
   "metadata": {},
   "outputs": [
    {
     "name": "stdout",
     "output_type": "stream",
     "text": [
      "Side missing values before: 199\n",
      "Side missing values after: 99\n"
     ]
    }
   ],
   "source": [
    "# Missing values before\n",
    "S_bef=data['Side'].isna().sum()\n",
    "\n",
    "# Passengers with missing cabin side and in a group with known cabin side\n",
    "GS_index=data[data['Side'].isna()][(data[data['Side'].isna()]['Group']).isin(GS_gb.index)].index\n",
    "\n",
    "# Fill corresponding missing values\n",
    "data.loc[GS_index,'Side']=data.iloc[GS_index,:]['Group'].map(lambda x: GS_gb.idxmax(axis=1)[x])\n",
    "\n",
    "# Print number of missing values left\n",
    "print('Side missing values before:',S_bef)\n",
    "print('Side missing values after:',data['Side'].isna().sum())"
   ]
  },
  {
   "cell_type": "markdown",
   "id": "cf1c7c4e",
   "metadata": {},
   "source": [
    "To fill in the rest of the missing values, we can observe that most passengers in the same family have the same cabin side."
   ]
  },
  {
   "cell_type": "code",
   "execution_count": 39,
   "id": "e7e3b316",
   "metadata": {
    "scrolled": true
   },
   "outputs": [
    {
     "data": {
      "image/png": "[encoded data removed]",
      "text/plain": [
       "<Figure size 720x288 with 1 Axes>"
      ]
     },
     "metadata": {
      "needs_background": "light"
     },
     "output_type": "display_data"
    }
   ],
   "source": [
    "# Groupby of Last Name and Cabin side\n",
    "LNS_gb=data[data['Group Size']>1].groupby(['Last Name','Side'])['Side'].size().unstack().fillna(0)\n",
    "\n",
    "# Ratio of sides\n",
    "LNS_gb['Ratio']=LNS_gb['P']/(LNS_gb['P']+LNS_gb['S'])\n",
    "\n",
    "# Histogram of ratio\n",
    "plt.figure(figsize=(10,4))\n",
    "sns.histplot(LNS_gb['Ratio'], kde=True, binwidth=0.05)\n",
    "plt.title('Ratio of Cabin Sides in Each Family')\n",
    "plt.show()"
   ]
  },
  {
   "cell_type": "code",
   "execution_count": 40,
   "id": "b4397265",
   "metadata": {},
   "outputs": [
    {
     "name": "stdout",
     "output_type": "stream",
     "text": [
      "Percentage of families all on the same cabin side: 83.6 %\n"
     ]
    }
   ],
   "source": [
    "print('Percentage of families all on the same cabin side:', 100*np.round((LNS_gb['Ratio'].isin([0,1])).sum()/len(LNS_gb),3),'%')"
   ]
  },
  {
   "cell_type": "markdown",
   "id": "5394fa62",
   "metadata": {},
   "source": [
    "We can use this knowledge to replace the missing cabin side values of passengers in the same family."
   ]
  },
  {
   "cell_type": "code",
   "execution_count": 41,
   "id": "638b49df",
   "metadata": {},
   "outputs": [
    {
     "name": "stdout",
     "output_type": "stream",
     "text": [
      "Side missing values before: 99\n",
      "Side missing values after: 52\n"
     ]
    }
   ],
   "source": [
    "# Missing values before\n",
    "S_bef=data['Side'].isna().sum()\n",
    "\n",
    "# Passengers with missing cabin side and in a family with known cabin side\n",
    "LNS_index=data[data['Side'].isna()][(data[data['Side'].isna()]['Last Name']).isin(LNS_gb.index)].index\n",
    "\n",
    "# Fill corresponding missing values\n",
    "data.loc[LNS_index,'Side']=data.iloc[LNS_index,:]['Last Name'].map(lambda x: LNS_gb.idxmax(axis=1)[x])\n",
    "\n",
    "# Print number of missing values left\n",
    "print('Side missing values before:',S_bef)\n",
    "print('Side missing values after:',data['Side'].isna().sum())"
   ]
  },
  {
   "cell_type": "markdown",
   "id": "c5db6bef",
   "metadata": {},
   "source": [
    "The cabin side values are still very evenly split, so we will fill in the remaining values with 'No_Side.'"
   ]
  },
  {
   "cell_type": "code",
   "execution_count": 42,
   "id": "843fbb24",
   "metadata": {
    "scrolled": true
   },
   "outputs": [
    {
     "data": {
      "text/plain": [
       "S    4369\n",
       "P    4272\n",
       "Name: Side, dtype: int64"
      ]
     },
     "execution_count": 42,
     "metadata": {},
     "output_type": "execute_result"
    }
   ],
   "source": [
    "data['Side'].value_counts()"
   ]
  },
  {
   "cell_type": "code",
   "execution_count": 43,
   "id": "40370bbb",
   "metadata": {},
   "outputs": [],
   "source": [
    "data['Side'] = data['Side'].fillna(\"Z No_Side\") # Z to maintain order"
   ]
  },
  {
   "cell_type": "markdown",
   "id": "7273b8d5",
   "metadata": {},
   "source": [
    "To fill in the missing cabin deck values, we can observe that most groups have the same cabin deck. "
   ]
  },
  {
   "cell_type": "code",
   "execution_count": 44,
   "id": "5e559c63",
   "metadata": {},
   "outputs": [
    {
     "data": {
      "image/png": "[encoded data removed]",
      "text/plain": [
       "<Figure size 720x288 with 1 Axes>"
      ]
     },
     "metadata": {
      "needs_background": "light"
     },
     "output_type": "display_data"
    }
   ],
   "source": [
    "# Joint distribution of Group and Cabin features\n",
    "GD_gb=data[data['Group Size']>1].groupby(['Group','Deck'])['Deck'].size().unstack().fillna(0)\n",
    "\n",
    "# Countplots\n",
    "plt.figure(figsize=(10,4))\n",
    "sns.countplot(x = (GD_gb>0).sum(axis=1))\n",
    "plt.title('Unique cabin decks per group')\n",
    "plt.show()"
   ]
  },
  {
   "cell_type": "code",
   "execution_count": 45,
   "id": "bea5da98",
   "metadata": {
    "scrolled": true
   },
   "outputs": [
    {
     "name": "stdout",
     "output_type": "stream",
     "text": [
      "Deck missing values before: 199\n",
      "Deck missing values after: 99\n"
     ]
    }
   ],
   "source": [
    "# Missing values before\n",
    "D_bef=data['Deck'].isna().sum()\n",
    "\n",
    "# Passengers with missing Cabin deck and in a group with known majority Cabin deck\n",
    "D_index=data[data['Deck'].isna()][(data[data['Deck'].isna()]['Group']).isin(GD_gb.index)].index\n",
    "\n",
    "# Fill corresponding missing values\n",
    "data.loc[D_index,'Deck']=data.iloc[D_index,:]['Group'].map(lambda x: GD_gb.idxmax(axis=1)[x])\n",
    "\n",
    "# Print number of missing values left\n",
    "print('Deck missing values before:',D_bef)\n",
    "print('Deck missing values after:',data['Deck'].isna().sum())"
   ]
  },
  {
   "cell_type": "markdown",
   "id": "966e1f67",
   "metadata": {},
   "source": [
    "Next, we can observe how each passenger's home planet and destination relate to their deck."
   ]
  },
  {
   "cell_type": "code",
   "execution_count": 46,
   "id": "bb10b3e3",
   "metadata": {
    "scrolled": true
   },
   "outputs": [
    {
     "data": {
      "text/html": [
       "<div>\n",
       "<style scoped>\n",
       "    .dataframe tbody tr th:only-of-type {\n",
       "        vertical-align: middle;\n",
       "    }\n",
       "\n",
       "    .dataframe tbody tr th {\n",
       "        vertical-align: top;\n",
       "    }\n",
       "\n",
       "    .dataframe thead th {\n",
       "        text-align: right;\n",
       "    }\n",
       "</style>\n",
       "<table border=\"1\" class=\"dataframe\">\n",
       "  <thead>\n",
       "    <tr style=\"text-align: right;\">\n",
       "      <th></th>\n",
       "      <th>Deck</th>\n",
       "      <th>A</th>\n",
       "      <th>B</th>\n",
       "      <th>C</th>\n",
       "      <th>D</th>\n",
       "      <th>E</th>\n",
       "      <th>F</th>\n",
       "      <th>G</th>\n",
       "      <th>T</th>\n",
       "    </tr>\n",
       "    <tr>\n",
       "      <th>HomePlanet</th>\n",
       "      <th>Destination</th>\n",
       "      <th></th>\n",
       "      <th></th>\n",
       "      <th></th>\n",
       "      <th></th>\n",
       "      <th></th>\n",
       "      <th></th>\n",
       "      <th></th>\n",
       "      <th></th>\n",
       "    </tr>\n",
       "  </thead>\n",
       "  <tbody>\n",
       "    <tr>\n",
       "      <th rowspan=\"3\" valign=\"top\">Earth</th>\n",
       "      <th>55 Cancri e</th>\n",
       "      <td>0.0</td>\n",
       "      <td>0.0</td>\n",
       "      <td>0.0</td>\n",
       "      <td>0.0</td>\n",
       "      <td>47.0</td>\n",
       "      <td>273.0</td>\n",
       "      <td>372.0</td>\n",
       "      <td>0.0</td>\n",
       "    </tr>\n",
       "    <tr>\n",
       "      <th>PSO J318.5-22</th>\n",
       "      <td>0.0</td>\n",
       "      <td>0.0</td>\n",
       "      <td>0.0</td>\n",
       "      <td>0.0</td>\n",
       "      <td>29.0</td>\n",
       "      <td>222.0</td>\n",
       "      <td>463.0</td>\n",
       "      <td>0.0</td>\n",
       "    </tr>\n",
       "    <tr>\n",
       "      <th>TRAPPIST-1e</th>\n",
       "      <td>0.0</td>\n",
       "      <td>0.0</td>\n",
       "      <td>0.0</td>\n",
       "      <td>0.0</td>\n",
       "      <td>331.0</td>\n",
       "      <td>1166.0</td>\n",
       "      <td>1753.0</td>\n",
       "      <td>0.0</td>\n",
       "    </tr>\n",
       "    <tr>\n",
       "      <th rowspan=\"3\" valign=\"top\">Europa</th>\n",
       "      <th>55 Cancri e</th>\n",
       "      <td>113.0</td>\n",
       "      <td>343.0</td>\n",
       "      <td>322.0</td>\n",
       "      <td>67.0</td>\n",
       "      <td>49.0</td>\n",
       "      <td>0.0</td>\n",
       "      <td>0.0</td>\n",
       "      <td>0.0</td>\n",
       "    </tr>\n",
       "    <tr>\n",
       "      <th>PSO J318.5-22</th>\n",
       "      <td>2.0</td>\n",
       "      <td>3.0</td>\n",
       "      <td>14.0</td>\n",
       "      <td>0.0</td>\n",
       "      <td>0.0</td>\n",
       "      <td>0.0</td>\n",
       "      <td>0.0</td>\n",
       "      <td>0.0</td>\n",
       "    </tr>\n",
       "    <tr>\n",
       "      <th>TRAPPIST-1e</th>\n",
       "      <td>147.0</td>\n",
       "      <td>450.0</td>\n",
       "      <td>425.0</td>\n",
       "      <td>128.0</td>\n",
       "      <td>85.0</td>\n",
       "      <td>0.0</td>\n",
       "      <td>0.0</td>\n",
       "      <td>5.0</td>\n",
       "    </tr>\n",
       "    <tr>\n",
       "      <th rowspan=\"3\" valign=\"top\">Mars</th>\n",
       "      <th>55 Cancri e</th>\n",
       "      <td>0.0</td>\n",
       "      <td>0.0</td>\n",
       "      <td>0.0</td>\n",
       "      <td>48.0</td>\n",
       "      <td>21.0</td>\n",
       "      <td>126.0</td>\n",
       "      <td>0.0</td>\n",
       "      <td>0.0</td>\n",
       "    </tr>\n",
       "    <tr>\n",
       "      <th>PSO J318.5-22</th>\n",
       "      <td>0.0</td>\n",
       "      <td>0.0</td>\n",
       "      <td>0.0</td>\n",
       "      <td>17.0</td>\n",
       "      <td>13.0</td>\n",
       "      <td>20.0</td>\n",
       "      <td>0.0</td>\n",
       "      <td>0.0</td>\n",
       "    </tr>\n",
       "    <tr>\n",
       "      <th>TRAPPIST-1e</th>\n",
       "      <td>0.0</td>\n",
       "      <td>0.0</td>\n",
       "      <td>0.0</td>\n",
       "      <td>227.0</td>\n",
       "      <td>310.0</td>\n",
       "      <td>1003.0</td>\n",
       "      <td>0.0</td>\n",
       "      <td>0.0</td>\n",
       "    </tr>\n",
       "  </tbody>\n",
       "</table>\n",
       "</div>"
      ],
      "text/plain": [
       "Deck                          A      B      C      D      E       F       G  \\\n",
       "HomePlanet Destination                                                        \n",
       "Earth      55 Cancri e      0.0    0.0    0.0    0.0   47.0   273.0   372.0   \n",
       "           PSO J318.5-22    0.0    0.0    0.0    0.0   29.0   222.0   463.0   \n",
       "           TRAPPIST-1e      0.0    0.0    0.0    0.0  331.0  1166.0  1753.0   \n",
       "Europa     55 Cancri e    113.0  343.0  322.0   67.0   49.0     0.0     0.0   \n",
       "           PSO J318.5-22    2.0    3.0   14.0    0.0    0.0     0.0     0.0   \n",
       "           TRAPPIST-1e    147.0  450.0  425.0  128.0   85.0     0.0     0.0   \n",
       "Mars       55 Cancri e      0.0    0.0    0.0   48.0   21.0   126.0     0.0   \n",
       "           PSO J318.5-22    0.0    0.0    0.0   17.0   13.0    20.0     0.0   \n",
       "           TRAPPIST-1e      0.0    0.0    0.0  227.0  310.0  1003.0     0.0   \n",
       "\n",
       "Deck                        T  \n",
       "HomePlanet Destination         \n",
       "Earth      55 Cancri e    0.0  \n",
       "           PSO J318.5-22  0.0  \n",
       "           TRAPPIST-1e    0.0  \n",
       "Europa     55 Cancri e    0.0  \n",
       "           PSO J318.5-22  0.0  \n",
       "           TRAPPIST-1e    5.0  \n",
       "Mars       55 Cancri e    0.0  \n",
       "           PSO J318.5-22  0.0  \n",
       "           TRAPPIST-1e    0.0  "
      ]
     },
     "execution_count": 46,
     "metadata": {},
     "output_type": "execute_result"
    }
   ],
   "source": [
    "# Joint distribution\n",
    "data.groupby(['HomePlanet', 'Destination', 'Deck'])['Deck'].size().unstack().fillna(0)"
   ]
  },
  {
   "cell_type": "markdown",
   "id": "5fc74eef",
   "metadata": {},
   "source": [
    "We can see that most passengers from Earth are most likely to be on Decks F or G, most passengers from Mars are on Deck F, and most passengers from Europa are on Decks B or C. We will impute the missing deck values with the mode of each subgroup."
   ]
  },
  {
   "cell_type": "code",
   "execution_count": 47,
   "id": "2f99d6d2",
   "metadata": {
    "scrolled": true
   },
   "outputs": [
    {
     "data": {
      "text/plain": [
       "HomePlanet  Destination  \n",
       "Earth       55 Cancri e      G\n",
       "            PSO J318.5-22    G\n",
       "            TRAPPIST-1e      G\n",
       "Europa      55 Cancri e      B\n",
       "            PSO J318.5-22    C\n",
       "            TRAPPIST-1e      B\n",
       "Mars        55 Cancri e      F\n",
       "            PSO J318.5-22    F\n",
       "            TRAPPIST-1e      F\n",
       "Name: Deck, dtype: object"
      ]
     },
     "execution_count": 47,
     "metadata": {},
     "output_type": "execute_result"
    }
   ],
   "source": [
    "data.groupby(['HomePlanet', 'Destination'])['Deck'].agg(pd.Series.mode)"
   ]
  },
  {
   "cell_type": "markdown",
   "id": "a40c97a9",
   "metadata": {},
   "source": [
    "We can see that the mode for all passengers from Earth is deck G, and the mode for all passengers from Mars is deck F. Lastly, the modes for Europa are B or C depending on the destination of the passenger."
   ]
  },
  {
   "cell_type": "code",
   "execution_count": 48,
   "id": "41291bec",
   "metadata": {
    "scrolled": true
   },
   "outputs": [
    {
     "name": "stdout",
     "output_type": "stream",
     "text": [
      "Deck missing values before: 99\n",
      "Deck missing values after: 0\n"
     ]
    }
   ],
   "source": [
    "# Missing values before\n",
    "D_bef=data['Deck'].isna().sum()\n",
    "\n",
    "# Mode for passengers from Earth is deck G\n",
    "data.loc[(data['Deck'].isna()) & (data['HomePlanet'] == 'Earth'), 'Deck'] = 'G'\n",
    "\n",
    "# Mode for passengers from Mars is deck F\n",
    "data.loc[(data['Deck'].isna()) & (data['HomePlanet'] == 'Mars'), 'Deck'] = 'F'\n",
    "\n",
    "# Mode for passengers from Europa is deck B or C depending on destination\n",
    "data.loc[(data['Deck'].isna()) & (data['HomePlanet'] == 'Europa') & ~(data['Destination'] == 'PSO J318.5-22'), 'Deck'] = 'B'\n",
    "data.loc[(data['Deck'].isna()) & (data['HomePlanet'] == 'Europa') & (data['Destination'] == 'PSO J318.5-22'), 'Deck'] = 'C'\n",
    "\n",
    "# Print number of missing values left\n",
    "print('Deck missing values before:',D_bef)\n",
    "print('Deck missing values after:',data['Deck'].isna().sum())"
   ]
  },
  {
   "cell_type": "markdown",
   "id": "cf10ac58",
   "metadata": {},
   "source": [
    "#### CryoSleep and VIP"
   ]
  },
  {
   "cell_type": "markdown",
   "id": "fc4889e4",
   "metadata": {},
   "source": [
    "CryoSleep - Indicates whether the passenger elected to be put into suspended animation for the duration of the voyage. Passengers in cryosleep are confined to their cabins.\n",
    "\n",
    "VIP - Whether the passenger has paid for special VIP service during the voyage."
   ]
  },
  {
   "cell_type": "code",
   "execution_count": 49,
   "id": "87dff543",
   "metadata": {
    "scrolled": false
   },
   "outputs": [
    {
     "data": {
      "text/plain": [
       "False    8291\n",
       "True      199\n",
       "Name: VIP, dtype: int64"
      ]
     },
     "execution_count": 49,
     "metadata": {},
     "output_type": "execute_result"
    }
   ],
   "source": [
    "data['VIP'].value_counts()"
   ]
  },
  {
   "cell_type": "markdown",
   "id": "b89ff7bf",
   "metadata": {},
   "source": [
    "The vast majority of people are not VIPs, so we assume every passenger with a missing VIP value is not a VIP."
   ]
  },
  {
   "cell_type": "code",
   "execution_count": 50,
   "id": "0478b782",
   "metadata": {},
   "outputs": [],
   "source": [
    "data['VIP'] = data['VIP'].fillna(False)"
   ]
  },
  {
   "cell_type": "code",
   "execution_count": 51,
   "id": "594791d3",
   "metadata": {
    "scrolled": true
   },
   "outputs": [
    {
     "data": {
      "text/plain": [
       "False    5439\n",
       "True     3037\n",
       "Name: CryoSleep, dtype: int64"
      ]
     },
     "execution_count": 51,
     "metadata": {},
     "output_type": "execute_result"
    }
   ],
   "source": [
    "data['CryoSleep'].value_counts()"
   ]
  },
  {
   "cell_type": "markdown",
   "id": "3cf34267",
   "metadata": {},
   "source": [
    "Most of the rows with missing values for the expenditure features are only missing 1 value, so calculating the total expenditure won't cause large issues (rows with mostly missing values could've been added to equal 0)."
   ]
  },
  {
   "cell_type": "code",
   "execution_count": 52,
   "id": "0c08a03f",
   "metadata": {},
   "outputs": [],
   "source": [
    "# Create a new feature for the total expenditure of each passenger\n",
    "exp_features=['RoomService', 'FoodCourt', 'ShoppingMall', 'Spa', 'VRDeck']\n",
    "\n",
    "# Note that this counts NaN values as 0\n",
    "data[\"Expenditure\"]=data[exp_features].sum(axis=\"columns\")"
   ]
  },
  {
   "cell_type": "markdown",
   "id": "01d66f9e",
   "metadata": {},
   "source": [
    "From below, we know that passengers in CryoSleep do not spend any money."
   ]
  },
  {
   "cell_type": "code",
   "execution_count": 53,
   "id": "740a5906",
   "metadata": {
    "scrolled": true
   },
   "outputs": [
    {
     "data": {
      "text/plain": [
       "0.0    3037\n",
       "Name: Expenditure, dtype: int64"
      ]
     },
     "execution_count": 53,
     "metadata": {},
     "output_type": "execute_result"
    }
   ],
   "source": [
    "data.loc[data['CryoSleep'] == True]['Expenditure'].value_counts()"
   ]
  },
  {
   "cell_type": "code",
   "execution_count": 54,
   "id": "b726aee2",
   "metadata": {
    "scrolled": true
   },
   "outputs": [],
   "source": [
    "# Replace all expenditure features with 0 if CryoSleep is True\n",
    "for col in exp_features:\n",
    "    data.loc[(data[col].isnull()) & (data['CryoSleep']==True), col] = 0"
   ]
  },
  {
   "cell_type": "markdown",
   "id": "2a9db0a9",
   "metadata": {},
   "source": [
    "From below, we also know that if a passenger spent money, they are not in CryoSleep."
   ]
  },
  {
   "cell_type": "code",
   "execution_count": 55,
   "id": "155b76a9",
   "metadata": {
    "scrolled": false
   },
   "outputs": [
    {
     "data": {
      "text/plain": [
       "False    4921\n",
       "Name: CryoSleep, dtype: int64"
      ]
     },
     "execution_count": 55,
     "metadata": {},
     "output_type": "execute_result"
    }
   ],
   "source": [
    "data[data['Expenditure'] > 0]['CryoSleep'].value_counts()"
   ]
  },
  {
   "cell_type": "code",
   "execution_count": 56,
   "id": "9f2fa745",
   "metadata": {},
   "outputs": [],
   "source": [
    "# If the passenger spent any money, they are not in CryoSleep\n",
    "data.loc[(data['CryoSleep'].isnull()) & (data['Expenditure'] > 0), 'CryoSleep'] = False"
   ]
  },
  {
   "cell_type": "markdown",
   "id": "3e6a281d",
   "metadata": {},
   "source": [
    "From below, we also know that most of the passengers who did not spend money are in CryoSleep."
   ]
  },
  {
   "cell_type": "code",
   "execution_count": 57,
   "id": "7517f5e1",
   "metadata": {},
   "outputs": [
    {
     "data": {
      "text/plain": [
       "True     3037\n",
       "False     518\n",
       "Name: CryoSleep, dtype: int64"
      ]
     },
     "execution_count": 57,
     "metadata": {},
     "output_type": "execute_result"
    }
   ],
   "source": [
    "data.loc[data['Expenditure'] == 0]['CryoSleep'].value_counts()"
   ]
  },
  {
   "cell_type": "code",
   "execution_count": 58,
   "id": "00ffdbc1",
   "metadata": {},
   "outputs": [],
   "source": [
    "# If the passenger did not spend any money, they are in CryoSleep\n",
    "data.loc[(data['CryoSleep'].isnull()) & (data['Expenditure'] == 0), 'CryoSleep'] = True"
   ]
  },
  {
   "cell_type": "markdown",
   "id": "c85df50c",
   "metadata": {},
   "source": [
    "#### Convert Categorical Features to Numerical Features"
   ]
  },
  {
   "cell_type": "code",
   "execution_count": 59,
   "id": "e5e72971",
   "metadata": {},
   "outputs": [],
   "source": [
    "# Convert boolean features to numerical features\n",
    "data[['CryoSleep', 'VIP', 'Transported']] = data[['CryoSleep', 'VIP', 'Transported']].astype(int)"
   ]
  },
  {
   "cell_type": "code",
   "execution_count": 60,
   "id": "3b2a9c12",
   "metadata": {},
   "outputs": [
    {
     "data": {
      "text/plain": [
       "HomePlanet     3\n",
       "Destination    3\n",
       "Side           3\n",
       "Deck           8\n",
       "dtype: int64"
      ]
     },
     "execution_count": 60,
     "metadata": {},
     "output_type": "execute_result"
    }
   ],
   "source": [
    "data[['HomePlanet', 'Destination', 'Side', 'Deck']].nunique(axis = 0)"
   ]
  },
  {
   "cell_type": "code",
   "execution_count": 61,
   "id": "3a770c52",
   "metadata": {},
   "outputs": [],
   "source": [
    "# There are only a few unique values for these columns\n",
    "# Use one-hot encoding to transform the categorical data into numerical data\n",
    "data = pd.concat([data, pd.get_dummies(data['HomePlanet']), pd.get_dummies(data['Destination']), pd.get_dummies(data['Side'])], axis = 'columns')"
   ]
  },
  {
   "cell_type": "markdown",
   "id": "c94bbc18",
   "metadata": {},
   "source": [
    "Since the 'Deck' column takes on several different values, using one-hot encoding would waste memory. We use label encoding instead."
   ]
  },
  {
   "cell_type": "code",
   "execution_count": 62,
   "id": "38c52b37",
   "metadata": {},
   "outputs": [],
   "source": [
    "from sklearn.preprocessing import LabelEncoder\n",
    "encoder = LabelEncoder()\n",
    "data['Deck'] = encoder.fit_transform(data['Deck'])"
   ]
  },
  {
   "cell_type": "code",
   "execution_count": 63,
   "id": "cbef8fd1",
   "metadata": {},
   "outputs": [],
   "source": [
    "# Drop these columns since they are no longer needed\n",
    "data.drop(columns=['HomePlanet', 'Destination', \"Cabin\", 'Side'],inplace=True)"
   ]
  },
  {
   "cell_type": "markdown",
   "id": "cdde0239",
   "metadata": {},
   "source": [
    "#### Imputing Missing Values using KNNImputer"
   ]
  },
  {
   "cell_type": "code",
   "execution_count": 64,
   "id": "7c9288e5",
   "metadata": {},
   "outputs": [],
   "source": [
    "from sklearn.impute import KNNImputer"
   ]
  },
  {
   "cell_type": "markdown",
   "id": "71f7ad0d",
   "metadata": {},
   "source": [
    "KNNImputer - Each sample’s missing values are imputed using the mean value from n_neighbors nearest neighbors found in the training set. Two samples are close if the features that neither is missing are close."
   ]
  },
  {
   "cell_type": "code",
   "execution_count": 65,
   "id": "940d95dd",
   "metadata": {
    "scrolled": false
   },
   "outputs": [
    {
     "data": {
      "text/plain": [
       "PassengerId        0\n",
       "CryoSleep          0\n",
       "Age              179\n",
       "VIP                0\n",
       "RoomService      113\n",
       "FoodCourt        113\n",
       "ShoppingMall     112\n",
       "Spa              118\n",
       "VRDeck           126\n",
       "Name             200\n",
       "Transported        0\n",
       "Group              0\n",
       "Deck               0\n",
       "Num              199\n",
       "Group Size         0\n",
       "Cabin Size       199\n",
       "Last Name        104\n",
       "Family Size      104\n",
       "Expenditure        0\n",
       "Earth              0\n",
       "Europa             0\n",
       "Mars               0\n",
       "55 Cancri e        0\n",
       "PSO J318.5-22      0\n",
       "TRAPPIST-1e        0\n",
       "P                  0\n",
       "S                  0\n",
       "Z No_Side          0\n",
       "dtype: int64"
      ]
     },
     "execution_count": 65,
     "metadata": {},
     "output_type": "execute_result"
    }
   ],
   "source": [
    "data.isnull().sum()"
   ]
  },
  {
   "cell_type": "code",
   "execution_count": 66,
   "id": "233624e9",
   "metadata": {},
   "outputs": [],
   "source": [
    "# Columns used to help impute missing values (numerical features, we use the same ones to train models)\n",
    "cols = ['CryoSleep', 'Age', 'VIP', \n",
    "        'RoomService', 'FoodCourt', 'ShoppingMall', 'Spa', 'VRDeck', 'Expenditure',\n",
    "        'Group', 'Group Size', 'Cabin Size', 'Family Size', 'Deck', 'Num', \n",
    "        'Earth', 'Europa', 'Mars', '55 Cancri e', 'PSO J318.5-22', 'TRAPPIST-1e', \n",
    "        'P', 'S', 'Z No_Side']\n",
    "\n",
    "# Use KNNImputer to impute the missing features\n",
    "imputer=KNNImputer(n_neighbors=5)\n",
    "data[cols] = imputer.fit_transform(data[cols])"
   ]
  },
  {
   "cell_type": "code",
   "execution_count": 67,
   "id": "5434e9a6",
   "metadata": {
    "scrolled": false
   },
   "outputs": [
    {
     "data": {
      "text/plain": [
       "PassengerId        0\n",
       "CryoSleep          0\n",
       "Age                0\n",
       "VIP                0\n",
       "RoomService        0\n",
       "FoodCourt          0\n",
       "ShoppingMall       0\n",
       "Spa                0\n",
       "VRDeck             0\n",
       "Name             200\n",
       "Transported        0\n",
       "Group              0\n",
       "Deck               0\n",
       "Num                0\n",
       "Group Size         0\n",
       "Cabin Size         0\n",
       "Last Name        104\n",
       "Family Size        0\n",
       "Expenditure        0\n",
       "Earth              0\n",
       "Europa             0\n",
       "Mars               0\n",
       "55 Cancri e        0\n",
       "PSO J318.5-22      0\n",
       "TRAPPIST-1e        0\n",
       "P                  0\n",
       "S                  0\n",
       "Z No_Side          0\n",
       "dtype: int64"
      ]
     },
     "execution_count": 67,
     "metadata": {},
     "output_type": "execute_result"
    }
   ],
   "source": [
    "data.isnull().sum()"
   ]
  },
  {
   "cell_type": "code",
   "execution_count": 68,
   "id": "a0e0846b",
   "metadata": {},
   "outputs": [],
   "source": [
    "# Update Expenditure column since the initial calculation summed over missing values\n",
    "data[\"Expenditure\"]=data[exp_features].sum(axis=\"columns\")"
   ]
  },
  {
   "cell_type": "code",
   "execution_count": 69,
   "id": "89df8a5a",
   "metadata": {
    "scrolled": true
   },
   "outputs": [
    {
     "data": {
      "text/html": [
       "<div>\n",
       "<style scoped>\n",
       "    .dataframe tbody tr th:only-of-type {\n",
       "        vertical-align: middle;\n",
       "    }\n",
       "\n",
       "    .dataframe tbody tr th {\n",
       "        vertical-align: top;\n",
       "    }\n",
       "\n",
       "    .dataframe thead th {\n",
       "        text-align: right;\n",
       "    }\n",
       "</style>\n",
       "<table border=\"1\" class=\"dataframe\">\n",
       "  <thead>\n",
       "    <tr style=\"text-align: right;\">\n",
       "      <th></th>\n",
       "      <th>PassengerId</th>\n",
       "      <th>CryoSleep</th>\n",
       "      <th>Age</th>\n",
       "      <th>VIP</th>\n",
       "      <th>RoomService</th>\n",
       "      <th>FoodCourt</th>\n",
       "      <th>ShoppingMall</th>\n",
       "      <th>Spa</th>\n",
       "      <th>VRDeck</th>\n",
       "      <th>Name</th>\n",
       "      <th>...</th>\n",
       "      <th>Earth</th>\n",
       "      <th>Europa</th>\n",
       "      <th>Mars</th>\n",
       "      <th>55 Cancri e</th>\n",
       "      <th>PSO J318.5-22</th>\n",
       "      <th>TRAPPIST-1e</th>\n",
       "      <th>P</th>\n",
       "      <th>S</th>\n",
       "      <th>Z No_Side</th>\n",
       "      <th>Transported</th>\n",
       "    </tr>\n",
       "  </thead>\n",
       "  <tbody>\n",
       "    <tr>\n",
       "      <th>0</th>\n",
       "      <td>3856_01</td>\n",
       "      <td>0.0</td>\n",
       "      <td>23.0</td>\n",
       "      <td>0.0</td>\n",
       "      <td>339.0</td>\n",
       "      <td>754.0</td>\n",
       "      <td>7.0</td>\n",
       "      <td>0.0</td>\n",
       "      <td>0.0</td>\n",
       "      <td>Ward Alvasquez</td>\n",
       "      <td>...</td>\n",
       "      <td>1.0</td>\n",
       "      <td>0.0</td>\n",
       "      <td>0.0</td>\n",
       "      <td>0.0</td>\n",
       "      <td>0.0</td>\n",
       "      <td>1.0</td>\n",
       "      <td>0.0</td>\n",
       "      <td>1.0</td>\n",
       "      <td>0.0</td>\n",
       "      <td>1</td>\n",
       "    </tr>\n",
       "    <tr>\n",
       "      <th>1</th>\n",
       "      <td>6110_01</td>\n",
       "      <td>0.0</td>\n",
       "      <td>57.0</td>\n",
       "      <td>0.0</td>\n",
       "      <td>0.0</td>\n",
       "      <td>0.0</td>\n",
       "      <td>0.0</td>\n",
       "      <td>0.0</td>\n",
       "      <td>642.0</td>\n",
       "      <td>Sus Warrishales</td>\n",
       "      <td>...</td>\n",
       "      <td>1.0</td>\n",
       "      <td>0.0</td>\n",
       "      <td>0.0</td>\n",
       "      <td>1.0</td>\n",
       "      <td>0.0</td>\n",
       "      <td>0.0</td>\n",
       "      <td>1.0</td>\n",
       "      <td>0.0</td>\n",
       "      <td>0.0</td>\n",
       "      <td>1</td>\n",
       "    </tr>\n",
       "    <tr>\n",
       "      <th>2</th>\n",
       "      <td>6908_01</td>\n",
       "      <td>0.0</td>\n",
       "      <td>60.0</td>\n",
       "      <td>0.0</td>\n",
       "      <td>0.0</td>\n",
       "      <td>960.0</td>\n",
       "      <td>46.0</td>\n",
       "      <td>854.0</td>\n",
       "      <td>17074.0</td>\n",
       "      <td>Sheleon Swinvul</td>\n",
       "      <td>...</td>\n",
       "      <td>0.0</td>\n",
       "      <td>1.0</td>\n",
       "      <td>0.0</td>\n",
       "      <td>0.0</td>\n",
       "      <td>0.0</td>\n",
       "      <td>1.0</td>\n",
       "      <td>0.0</td>\n",
       "      <td>1.0</td>\n",
       "      <td>0.0</td>\n",
       "      <td>0</td>\n",
       "    </tr>\n",
       "    <tr>\n",
       "      <th>3</th>\n",
       "      <td>5628_01</td>\n",
       "      <td>1.0</td>\n",
       "      <td>27.0</td>\n",
       "      <td>0.0</td>\n",
       "      <td>0.0</td>\n",
       "      <td>0.0</td>\n",
       "      <td>0.0</td>\n",
       "      <td>0.0</td>\n",
       "      <td>0.0</td>\n",
       "      <td>Ebonya Potthews</td>\n",
       "      <td>...</td>\n",
       "      <td>1.0</td>\n",
       "      <td>0.0</td>\n",
       "      <td>0.0</td>\n",
       "      <td>0.0</td>\n",
       "      <td>0.0</td>\n",
       "      <td>1.0</td>\n",
       "      <td>1.0</td>\n",
       "      <td>0.0</td>\n",
       "      <td>0.0</td>\n",
       "      <td>0</td>\n",
       "    </tr>\n",
       "    <tr>\n",
       "      <th>4</th>\n",
       "      <td>1193_02</td>\n",
       "      <td>1.0</td>\n",
       "      <td>25.0</td>\n",
       "      <td>0.0</td>\n",
       "      <td>0.0</td>\n",
       "      <td>0.0</td>\n",
       "      <td>0.0</td>\n",
       "      <td>0.0</td>\n",
       "      <td>0.0</td>\n",
       "      <td>Solam Presstic</td>\n",
       "      <td>...</td>\n",
       "      <td>0.0</td>\n",
       "      <td>1.0</td>\n",
       "      <td>0.0</td>\n",
       "      <td>1.0</td>\n",
       "      <td>0.0</td>\n",
       "      <td>0.0</td>\n",
       "      <td>0.0</td>\n",
       "      <td>1.0</td>\n",
       "      <td>0.0</td>\n",
       "      <td>1</td>\n",
       "    </tr>\n",
       "  </tbody>\n",
       "</table>\n",
       "<p>5 rows × 28 columns</p>\n",
       "</div>"
      ],
      "text/plain": [
       "  PassengerId  CryoSleep   Age  VIP  RoomService  FoodCourt  ShoppingMall  \\\n",
       "0     3856_01        0.0  23.0  0.0        339.0      754.0           7.0   \n",
       "1     6110_01        0.0  57.0  0.0          0.0        0.0           0.0   \n",
       "2     6908_01        0.0  60.0  0.0          0.0      960.0          46.0   \n",
       "3     5628_01        1.0  27.0  0.0          0.0        0.0           0.0   \n",
       "4     1193_02        1.0  25.0  0.0          0.0        0.0           0.0   \n",
       "\n",
       "     Spa   VRDeck             Name  ...  Earth  Europa  Mars  55 Cancri e  \\\n",
       "0    0.0      0.0   Ward Alvasquez  ...    1.0     0.0   0.0          0.0   \n",
       "1    0.0    642.0  Sus Warrishales  ...    1.0     0.0   0.0          1.0   \n",
       "2  854.0  17074.0  Sheleon Swinvul  ...    0.0     1.0   0.0          0.0   \n",
       "3    0.0      0.0  Ebonya Potthews  ...    1.0     0.0   0.0          0.0   \n",
       "4    0.0      0.0   Solam Presstic  ...    0.0     1.0   0.0          1.0   \n",
       "\n",
       "   PSO J318.5-22 TRAPPIST-1e    P    S  Z No_Side  Transported  \n",
       "0            0.0         1.0  0.0  1.0        0.0            1  \n",
       "1            0.0         0.0  1.0  0.0        0.0            1  \n",
       "2            0.0         1.0  0.0  1.0        0.0            0  \n",
       "3            0.0         1.0  1.0  0.0        0.0            0  \n",
       "4            0.0         0.0  0.0  1.0        0.0            1  \n",
       "\n",
       "[5 rows x 28 columns]"
      ]
     },
     "execution_count": 69,
     "metadata": {},
     "output_type": "execute_result"
    }
   ],
   "source": [
    "# Add 'Transported' column back to the end (just for organization)\n",
    "data['Transported'] = data.pop('Transported')\n",
    "data.head()"
   ]
  },
  {
   "cell_type": "code",
   "execution_count": 70,
   "id": "715bcdd3",
   "metadata": {
    "scrolled": false
   },
   "outputs": [
    {
     "name": "stdout",
     "output_type": "stream",
     "text": [
      "<class 'pandas.core.frame.DataFrame'>\n",
      "RangeIndex: 8693 entries, 0 to 8692\n",
      "Data columns (total 28 columns):\n",
      " #   Column         Non-Null Count  Dtype  \n",
      "---  ------         --------------  -----  \n",
      " 0   PassengerId    8693 non-null   object \n",
      " 1   CryoSleep      8693 non-null   float64\n",
      " 2   Age            8693 non-null   float64\n",
      " 3   VIP            8693 non-null   float64\n",
      " 4   RoomService    8693 non-null   float64\n",
      " 5   FoodCourt      8693 non-null   float64\n",
      " 6   ShoppingMall   8693 non-null   float64\n",
      " 7   Spa            8693 non-null   float64\n",
      " 8   VRDeck         8693 non-null   float64\n",
      " 9   Name           8493 non-null   object \n",
      " 10  Group          8693 non-null   float64\n",
      " 11  Deck           8693 non-null   float64\n",
      " 12  Num            8693 non-null   float64\n",
      " 13  Group Size     8693 non-null   float64\n",
      " 14  Cabin Size     8693 non-null   float64\n",
      " 15  Last Name      8589 non-null   object \n",
      " 16  Family Size    8693 non-null   float64\n",
      " 17  Expenditure    8693 non-null   float64\n",
      " 18  Earth          8693 non-null   float64\n",
      " 19  Europa         8693 non-null   float64\n",
      " 20  Mars           8693 non-null   float64\n",
      " 21  55 Cancri e    8693 non-null   float64\n",
      " 22  PSO J318.5-22  8693 non-null   float64\n",
      " 23  TRAPPIST-1e    8693 non-null   float64\n",
      " 24  P              8693 non-null   float64\n",
      " 25  S              8693 non-null   float64\n",
      " 26  Z No_Side      8693 non-null   float64\n",
      " 27  Transported    8693 non-null   int32  \n",
      "dtypes: float64(24), int32(1), object(3)\n",
      "memory usage: 1.8+ MB\n"
     ]
    }
   ],
   "source": [
    "data.info()"
   ]
  },
  {
   "cell_type": "code",
   "execution_count": 71,
   "id": "e294ae70",
   "metadata": {},
   "outputs": [],
   "source": [
    "# Set the train, valid, and test dataframes to their respective preprocessed data for training\n",
    "train = data[data['PassengerId'].isin(train['PassengerId'])]\n",
    "valid = data[data['PassengerId'].isin(valid['PassengerId'])]\n",
    "test = data[data['PassengerId'].isin(test['PassengerId'])]"
   ]
  },
  {
   "cell_type": "markdown",
   "id": "94c37f13",
   "metadata": {},
   "source": [
    "## Modeling"
   ]
  },
  {
   "cell_type": "code",
   "execution_count": 72,
   "id": "16db0c99",
   "metadata": {},
   "outputs": [],
   "source": [
    "from sklearn.metrics import accuracy_score\n",
    "from sklearn.model_selection import GridSearchCV # For hyperparameter tuning\n",
    "from sklearn.metrics import confusion_matrix, accuracy_score, classification_report, precision_score, recall_score, f1_score"
   ]
  },
  {
   "cell_type": "code",
   "execution_count": 73,
   "id": "12be9c96",
   "metadata": {
    "scrolled": true
   },
   "outputs": [
    {
     "data": {
      "text/plain": [
       "Index(['PassengerId', 'CryoSleep', 'Age', 'VIP', 'RoomService', 'FoodCourt',\n",
       "       'ShoppingMall', 'Spa', 'VRDeck', 'Name', 'Group', 'Deck', 'Num',\n",
       "       'Group Size', 'Cabin Size', 'Last Name', 'Family Size', 'Expenditure',\n",
       "       'Earth', 'Europa', 'Mars', '55 Cancri e', 'PSO J318.5-22',\n",
       "       'TRAPPIST-1e', 'P', 'S', 'Z No_Side', 'Transported'],\n",
       "      dtype='object')"
      ]
     },
     "execution_count": 73,
     "metadata": {},
     "output_type": "execute_result"
    }
   ],
   "source": [
    "data.columns"
   ]
  },
  {
   "cell_type": "code",
   "execution_count": 74,
   "id": "4c12390a",
   "metadata": {},
   "outputs": [],
   "source": [
    "# Columns to train on \n",
    "cols = ['CryoSleep', 'Age', 'VIP', \n",
    "        'RoomService', 'FoodCourt', 'ShoppingMall', 'Spa', 'VRDeck', 'Expenditure',\n",
    "        'Group', 'Group Size', 'Cabin Size', 'Family Size', 'Deck', 'Num', \n",
    "        'Earth', 'Europa', 'Mars', '55 Cancri e', 'PSO J318.5-22', 'TRAPPIST-1e', \n",
    "        'P', 'S', 'Z No_Side']"
   ]
  },
  {
   "cell_type": "markdown",
   "id": "b2d7fed7",
   "metadata": {},
   "source": [
    "### Logistic Regression and Support Vector Machine (Non-linear) (Sumanth)"
   ]
  },
  {
   "cell_type": "markdown",
   "id": "e9553da6",
   "metadata": {},
   "source": [
    "### Linear Discriminant Analysis (Thresha)"
   ]
  },
  {
   "cell_type": "code",
   "execution_count": 75,
   "id": "2c0af62c",
   "metadata": {},
   "outputs": [],
   "source": [
    "from sklearn.linear_model import LogisticRegression\n",
    "from sklearn.svm import SVC\n",
    "from sklearn.discriminant_analysis import LinearDiscriminantAnalysis"
   ]
  },
  {
   "cell_type": "code",
   "execution_count": 76,
   "id": "d19da4b4",
   "metadata": {},
   "outputs": [],
   "source": [
    "lr = LogisticRegression(max_iter = 10000)\n",
    "svm = SVC()\n",
    "lda = LinearDiscriminantAnalysis()\n",
    "\n",
    "models = [lr,\n",
    "          svm,\n",
    "          lda\n",
    "]\n",
    "\n",
    "model_names = [\n",
    "    'Logistic Regression',\n",
    "    'Support Vector Machine',\n",
    "    'Linear Discriminant Analysis',\n",
    "    'Quadratic Discriminant Analysis',\n",
    "]"
   ]
  },
  {
   "cell_type": "code",
   "execution_count": 77,
   "id": "c638256e",
   "metadata": {},
   "outputs": [
    {
     "name": "stdout",
     "output_type": "stream",
     "text": [
      "Logistic Regression:\n",
      "Confusion Matrix:\n",
      "[[687 181]\n",
      " [166 705]]\n",
      "Accuracy: 0.8004600345025877\n",
      "Precision: 0.7957\n",
      "Recall: 0.8094\n",
      "F1 Score: 0.8025\n",
      "\n",
      "Support Vector Machine:\n",
      "Confusion Matrix:\n",
      "[[610 258]\n",
      " [100 771]]\n",
      "Accuracy: 0.7941345600920069\n",
      "Precision: 0.7493\n",
      "Recall: 0.8852\n",
      "F1 Score: 0.8116\n",
      "\n",
      "Linear Discriminant Analysis:\n",
      "Confusion Matrix:\n",
      "[[735 133]\n",
      " [245 626]]\n",
      "Accuracy: 0.7826336975273146\n",
      "Precision: 0.8248\n",
      "Recall: 0.7187\n",
      "F1 Score: 0.7681\n",
      "\n"
     ]
    }
   ],
   "source": [
    "for name, model in zip(model_names, models):\n",
    "    model.fit(train[cols].values, train['Transported'])\n",
    "    y_pred = model.predict(test[cols].values)\n",
    "    cm = confusion_matrix(test['Transported'], y_pred)\n",
    "    accuracy = accuracy_score(test['Transported'], y_pred)\n",
    "    precision = precision_score(test['Transported'], y_pred)\n",
    "    recall = recall_score(test['Transported'], y_pred)\n",
    "    f1 = f1_score(test['Transported'], y_pred)\n",
    "\n",
    "    print(f\"{name}:\")\n",
    "    print(\"Confusion Matrix:\")\n",
    "    print(cm)\n",
    "    print(f\"Accuracy: {accuracy}\")\n",
    "    print(f\"Precision: {precision:.4f}\")\n",
    "    print(f\"Recall: {recall:.4f}\")\n",
    "    print(f\"F1 Score: {f1:.4f}\\n\")"
   ]
  },
  {
   "cell_type": "markdown",
   "id": "8545a5c7",
   "metadata": {},
   "source": [
    "### Random Forest (Thresha)"
   ]
  },
  {
   "cell_type": "code",
   "execution_count": 78,
   "id": "899afbe4",
   "metadata": {},
   "outputs": [],
   "source": [
    "from sklearn.ensemble import RandomForestClassifier"
   ]
  },
  {
   "cell_type": "code",
   "execution_count": 79,
   "id": "47e269ed",
   "metadata": {},
   "outputs": [
    {
     "name": "stdout",
     "output_type": "stream",
     "text": [
      "Fitting 5 folds for each of 288 candidates, totalling 1440 fits\n"
     ]
    },
    {
     "data": {
      "text/plain": [
       "GridSearchCV(cv=5, estimator=RandomForestClassifier(random_state=42), n_jobs=-1,\n",
       "             param_grid={'bootstrap': [True, False],\n",
       "                         'max_depth': [None, 10, 20, 30],\n",
       "                         'min_samples_leaf': [1, 2, 4],\n",
       "                         'min_samples_split': [2, 5, 10],\n",
       "                         'n_estimators': [10, 50, 100, 200]},\n",
       "             verbose=2)"
      ]
     },
     "execution_count": 79,
     "metadata": {},
     "output_type": "execute_result"
    }
   ],
   "source": [
    "from sklearn.model_selection import GridSearchCV\n",
    "\n",
    "# Define the parameter grid for the Random Forest model\n",
    "param_grid = {\n",
    "    'n_estimators': [10, 50, 100, 200],\n",
    "    'max_depth': [None, 10, 20, 30],\n",
    "    'min_samples_split': [2, 5, 10],\n",
    "    'min_samples_leaf': [1, 2, 4],\n",
    "    'bootstrap': [True, False]\n",
    "}\n",
    "\n",
    "# Create a Random Forest model\n",
    "rf_clf = RandomForestClassifier(random_state=42)\n",
    "\n",
    "# Create the GridSearchCV object\n",
    "grid_search = GridSearchCV(estimator=rf_clf, param_grid=param_grid, cv=5, n_jobs=-1, verbose=2)\n",
    "\n",
    "# Fit the GridSearchCV object to the data\n",
    "grid_search.fit(train[cols].values, train['Transported'])"
   ]
  },
  {
   "cell_type": "code",
   "execution_count": 80,
   "id": "9090bcc5",
   "metadata": {
    "scrolled": false
   },
   "outputs": [
    {
     "name": "stdout",
     "output_type": "stream",
     "text": [
      "Best Parameters: {'bootstrap': True, 'max_depth': 20, 'min_samples_leaf': 2, 'min_samples_split': 10, 'n_estimators': 200}\n",
      "Accuracy: 0.8125359401955147\n",
      "\n",
      "Classification Report:\n",
      "               precision    recall  f1-score   support\n",
      "\n",
      "           0       0.80      0.83      0.82       868\n",
      "           1       0.82      0.80      0.81       871\n",
      "\n",
      "    accuracy                           0.81      1739\n",
      "   macro avg       0.81      0.81      0.81      1739\n",
      "weighted avg       0.81      0.81      0.81      1739\n",
      "\n",
      "\n",
      "Confusion Matrix:\n",
      " [[719 149]\n",
      " [177 694]]\n"
     ]
    }
   ],
   "source": [
    "# Get the best parameters from the GridSearchCV\n",
    "best_params = grid_search.best_params_\n",
    "print(\"Best Parameters:\", best_params)\n",
    "\n",
    "# Train the Random Forest model using the best parameters\n",
    "best_rf_clf = RandomForestClassifier(**best_params, random_state=42)\n",
    "best_rf_clf.fit(train[cols].values, train['Transported'])\n",
    "\n",
    "# Make predictions on the test set\n",
    "y_pred = best_rf_clf.predict(test[cols].values)\n",
    "\n",
    "# Evaluate the model\n",
    "print(\"Accuracy:\", accuracy_score(test['Transported'], y_pred))\n",
    "print(\"\\nClassification Report:\\n\", classification_report(test['Transported'], y_pred))\n",
    "print(\"\\nConfusion Matrix:\\n\", confusion_matrix(test['Transported'], y_pred))"
   ]
  },
  {
   "cell_type": "code",
   "execution_count": 81,
   "id": "83847186",
   "metadata": {},
   "outputs": [
    {
     "name": "stdout",
     "output_type": "stream",
     "text": [
      "Feature 8: 0.1390408787881147\n",
      "Feature 6: 0.08901962885236402\n",
      "Feature 3: 0.08168135732709168\n",
      "Feature 0: 0.07946262314242417\n",
      "Feature 7: 0.07849537113015367\n",
      "Feature 4: 0.07618290199340956\n",
      "Feature 5: 0.07078807041989606\n",
      "Feature 14: 0.06777239185115914\n",
      "Feature 9: 0.06452761812785283\n",
      "Feature 1: 0.052385940901662285\n"
     ]
    }
   ],
   "source": [
    "feature_importances = best_rf_clf.feature_importances_\n",
    "\n",
    "# Sort the feature importances in descending order.\n",
    "sorted_feature_importances = np.argsort(feature_importances)[::-1]\n",
    "\n",
    "# Print the top 10 features.\n",
    "for i in range(10):\n",
    "    print(f\"Feature {sorted_feature_importances[i]}: {feature_importances[sorted_feature_importances[i]]}\")"
   ]
  },
  {
   "cell_type": "markdown",
   "id": "1fbab536",
   "metadata": {},
   "source": [
    "### K-Nearest Neighbors (Andrew)"
   ]
  },
  {
   "cell_type": "code",
   "execution_count": 82,
   "id": "81b71b0d",
   "metadata": {},
   "outputs": [],
   "source": [
    "from sklearn.neighbors import KNeighborsClassifier"
   ]
  },
  {
   "cell_type": "code",
   "execution_count": 83,
   "id": "5ee7e2cd",
   "metadata": {},
   "outputs": [],
   "source": [
    "# The default solver ‘adam’ works pretty well on relatively large datasets (with thousands of training samples or more) \n",
    "# in terms of both training time and validation score.\n",
    "knn = KNeighborsClassifier()\n",
    "\n",
    "# Use GridSearchCV to tune hyperparameters\n",
    "param_grid = {\n",
    "    'n_neighbors': np.arange(5, 40),\n",
    "}\n",
    "\n",
    "grid_search_knn = GridSearchCV(knn, param_grid, scoring='accuracy', n_jobs=-1)"
   ]
  },
  {
   "cell_type": "code",
   "execution_count": 84,
   "id": "d52bbb7b",
   "metadata": {
    "scrolled": true
   },
   "outputs": [
    {
     "data": {
      "text/plain": [
       "GridSearchCV(estimator=KNeighborsClassifier(), n_jobs=-1,\n",
       "             param_grid={'n_neighbors': array([ 5,  6,  7,  8,  9, 10, 11, 12, 13, 14, 15, 16, 17, 18, 19, 20, 21,\n",
       "       22, 23, 24, 25, 26, 27, 28, 29, 30, 31, 32, 33, 34, 35, 36, 37, 38,\n",
       "       39])},\n",
       "             scoring='accuracy')"
      ]
     },
     "execution_count": 84,
     "metadata": {},
     "output_type": "execute_result"
    }
   ],
   "source": [
    "grid_search_knn.fit(train[cols].values, train['Transported'])"
   ]
  },
  {
   "cell_type": "code",
   "execution_count": 85,
   "id": "de16777c",
   "metadata": {
    "scrolled": true
   },
   "outputs": [
    {
     "data": {
      "text/plain": [
       "{'n_neighbors': 27}"
      ]
     },
     "execution_count": 85,
     "metadata": {},
     "output_type": "execute_result"
    }
   ],
   "source": [
    "grid_search_knn.best_params_"
   ]
  },
  {
   "cell_type": "code",
   "execution_count": 86,
   "id": "8e9cd803",
   "metadata": {
    "scrolled": true
   },
   "outputs": [
    {
     "data": {
      "text/plain": [
       "0.776765680107671"
      ]
     },
     "execution_count": 86,
     "metadata": {},
     "output_type": "execute_result"
    }
   ],
   "source": [
    "grid_search_knn.best_score_"
   ]
  },
  {
   "cell_type": "code",
   "execution_count": 87,
   "id": "da425077",
   "metadata": {
    "scrolled": false
   },
   "outputs": [
    {
     "data": {
      "text/plain": [
       "KNeighborsClassifier(n_neighbors=27)"
      ]
     },
     "execution_count": 87,
     "metadata": {},
     "output_type": "execute_result"
    }
   ],
   "source": [
    "knn_best = grid_search_knn.best_estimator_\n",
    "knn_best.fit(train[cols].values, train['Transported'])"
   ]
  },
  {
   "cell_type": "code",
   "execution_count": 88,
   "id": "7be5e5c8",
   "metadata": {
    "scrolled": true
   },
   "outputs": [
    {
     "data": {
      "text/plain": [
       "0.7974137931034483"
      ]
     },
     "execution_count": 88,
     "metadata": {},
     "output_type": "execute_result"
    }
   ],
   "source": [
    "# Validation set accuracy\n",
    "accuracy_score(valid['Transported'], knn_best.predict(valid[cols].values))"
   ]
  },
  {
   "cell_type": "code",
   "execution_count": 89,
   "id": "8528b801",
   "metadata": {},
   "outputs": [
    {
     "data": {
      "text/plain": [
       "0.7912593444508338"
      ]
     },
     "execution_count": 89,
     "metadata": {},
     "output_type": "execute_result"
    }
   ],
   "source": [
    "# Test set accuracy\n",
    "accuracy_score(test['Transported'], knn_best.predict(test[cols].values))"
   ]
  },
  {
   "cell_type": "markdown",
   "id": "58c82a52",
   "metadata": {},
   "source": [
    "### Neural Network (Andrew)"
   ]
  },
  {
   "cell_type": "code",
   "execution_count": 90,
   "id": "490342c5",
   "metadata": {},
   "outputs": [],
   "source": [
    "from sklearn.neural_network import MLPClassifier"
   ]
  },
  {
   "cell_type": "code",
   "execution_count": 91,
   "id": "3185f411",
   "metadata": {
    "scrolled": true
   },
   "outputs": [],
   "source": [
    "# The default solver ‘adam’ works pretty well on relatively large datasets (with thousands of training samples or more) \n",
    "# in terms of both training time and validation score.\n",
    "nn = MLPClassifier(solver = 'adam', activation = 'logistic', early_stopping = True)\n",
    "\n",
    "# Use GridSearchCV to tune hyperparameters\n",
    "param_grid = {\n",
    "'hidden_layer_sizes': [(100,), (100, 100), (200,), (200, 200), (300,), (300, 300)],\n",
    "'alpha': 10.0 ** -np.arange(1, 7)\n",
    "}\n",
    "\n",
    "grid_search_nn = GridSearchCV(nn, param_grid, scoring='accuracy', n_jobs=-1)"
   ]
  },
  {
   "cell_type": "code",
   "execution_count": 92,
   "id": "4a24d7bb",
   "metadata": {
    "scrolled": true
   },
   "outputs": [
    {
     "data": {
      "text/plain": [
       "GridSearchCV(estimator=MLPClassifier(activation='logistic',\n",
       "                                     early_stopping=True),\n",
       "             n_jobs=-1,\n",
       "             param_grid={'alpha': array([1.e-01, 1.e-02, 1.e-03, 1.e-04, 1.e-05, 1.e-06]),\n",
       "                         'hidden_layer_sizes': [(100,), (100, 100), (200,),\n",
       "                                                (200, 200), (300,),\n",
       "                                                (300, 300)]},\n",
       "             scoring='accuracy')"
      ]
     },
     "execution_count": 92,
     "metadata": {},
     "output_type": "execute_result"
    }
   ],
   "source": [
    "grid_search_nn.fit(train[cols].values, train['Transported'])"
   ]
  },
  {
   "cell_type": "code",
   "execution_count": 93,
   "id": "7f0193f7",
   "metadata": {
    "scrolled": true
   },
   "outputs": [
    {
     "data": {
      "text/plain": [
       "{'alpha': 0.001, 'hidden_layer_sizes': (200,)}"
      ]
     },
     "execution_count": 93,
     "metadata": {},
     "output_type": "execute_result"
    }
   ],
   "source": [
    "grid_search_nn.best_params_"
   ]
  },
  {
   "cell_type": "code",
   "execution_count": 94,
   "id": "889fd7f3",
   "metadata": {
    "scrolled": true
   },
   "outputs": [
    {
     "data": {
      "text/plain": [
       "0.7901897012741245"
      ]
     },
     "execution_count": 94,
     "metadata": {},
     "output_type": "execute_result"
    }
   ],
   "source": [
    "grid_search_nn.best_score_"
   ]
  },
  {
   "cell_type": "code",
   "execution_count": 116,
   "id": "f84f3801",
   "metadata": {
    "scrolled": true
   },
   "outputs": [
    {
     "data": {
      "text/plain": [
       "MLPClassifier(activation='logistic', alpha=0.001, early_stopping=True,\n",
       "              hidden_layer_sizes=(200,))"
      ]
     },
     "execution_count": 116,
     "metadata": {},
     "output_type": "execute_result"
    }
   ],
   "source": [
    "nn_best = grid_search_nn.best_estimator_\n",
    "nn_best.fit(train[cols].values, train['Transported'])"
   ]
  },
  {
   "cell_type": "code",
   "execution_count": 117,
   "id": "efd56cdf",
   "metadata": {
    "scrolled": true
   },
   "outputs": [
    {
     "data": {
      "text/plain": [
       "0.7974137931034483"
      ]
     },
     "execution_count": 117,
     "metadata": {},
     "output_type": "execute_result"
    }
   ],
   "source": [
    "# Validation set accuracy\n",
    "accuracy_score(valid['Transported'], nn_best.predict(valid[cols].values))"
   ]
  },
  {
   "cell_type": "code",
   "execution_count": 118,
   "id": "60bbb5da",
   "metadata": {},
   "outputs": [
    {
     "data": {
      "text/plain": [
       "0.80448533640023"
      ]
     },
     "execution_count": 118,
     "metadata": {},
     "output_type": "execute_result"
    }
   ],
   "source": [
    "# Test set accuracy\n",
    "accuracy_score(test['Transported'], nn_best.predict(test[cols].values))"
   ]
  },
  {
   "cell_type": "markdown",
   "id": "5dbaf9b9",
   "metadata": {},
   "source": [
    "## Stacking Method (Andrew)"
   ]
  },
  {
   "cell_type": "code",
   "execution_count": 119,
   "id": "8520eeaf",
   "metadata": {},
   "outputs": [],
   "source": [
    "from sklearn.ensemble import StackingClassifier\n",
    "from catboost import CatBoostClassifier # For final estimator"
   ]
  },
  {
   "cell_type": "code",
   "execution_count": 120,
   "id": "f3b5adfd",
   "metadata": {},
   "outputs": [],
   "source": [
    "lg = LogisticRegression()"
   ]
  },
  {
   "cell_type": "code",
   "execution_count": 121,
   "id": "f3a0febb",
   "metadata": {
    "scrolled": true
   },
   "outputs": [],
   "source": [
    "# CatBoost is an algorithm for gradient boosting on decision trees\n",
    "# It was the best model that I tested for the Kaggle competition, and we already used logistic regression (the default) as one of our models\n",
    "cat = CatBoostClassifier(verbose=0)"
   ]
  },
  {
   "cell_type": "code",
   "execution_count": 123,
   "id": "5ee24110",
   "metadata": {},
   "outputs": [],
   "source": [
    "estimators = [\n",
    "    ('Logistic Regression', lr),\n",
    "    ('SVM', svm),\n",
    "    ('Linear Discriminant Analysis', lda),\n",
    "    ('K-Nearest Neighbors', knn_best),\n",
    "    ('Neural Network', nn_best),\n",
    "    ('Random Forest', best_rf_clf)\n",
    "]\n",
    "\n",
    "sclf = StackingClassifier(estimators = estimators, final_estimator = cat, cv=5)"
   ]
  },
  {
   "cell_type": "code",
   "execution_count": 142,
   "id": "1d4b5b62",
   "metadata": {
    "scrolled": false
   },
   "outputs": [
    {
     "data": {
      "text/plain": [
       "StackingClassifier(cv=5,\n",
       "                   estimators=[('Logistic Regression',\n",
       "                                LogisticRegression(max_iter=10000)),\n",
       "                               ('SVM', SVC()),\n",
       "                               ('Linear Discriminant Analysis',\n",
       "                                LinearDiscriminantAnalysis()),\n",
       "                               ('K-Nearest Neighbors',\n",
       "                                KNeighborsClassifier(n_neighbors=27)),\n",
       "                               ('Neural Network',\n",
       "                                MLPClassifier(activation='logistic',\n",
       "                                              alpha=0.001, early_stopping=True,\n",
       "                                              hidden_layer_sizes=(200,))),\n",
       "                               ('Random Forest',\n",
       "                                RandomForestClassifier(max_depth=20,\n",
       "                                                       min_samples_leaf=2,\n",
       "                                                       min_samples_split=10,\n",
       "                                                       n_estimators=200,\n",
       "                                                       random_state=42))],\n",
       "                   final_estimator=<catboost.core.CatBoostClassifier object at 0x000001C9CB1CD1C0>)"
      ]
     },
     "execution_count": 142,
     "metadata": {},
     "output_type": "execute_result"
    }
   ],
   "source": [
    "sclf.fit(train[cols].values, train['Transported'])"
   ]
  },
  {
   "cell_type": "code",
   "execution_count": 143,
   "id": "37602aff",
   "metadata": {
    "scrolled": true
   },
   "outputs": [
    {
     "data": {
      "text/plain": [
       "0.8117816091954023"
      ]
     },
     "execution_count": 143,
     "metadata": {},
     "output_type": "execute_result"
    }
   ],
   "source": [
    "# Validation set accuracy\n",
    "accuracy_score(valid['Transported'], sclf.predict(valid[cols].values))"
   ]
  },
  {
   "cell_type": "code",
   "execution_count": 144,
   "id": "ee27f893",
   "metadata": {},
   "outputs": [
    {
     "data": {
      "text/plain": [
       "0.8085106382978723"
      ]
     },
     "execution_count": 144,
     "metadata": {},
     "output_type": "execute_result"
    }
   ],
   "source": [
    "# Test set accuracy\n",
    "accuracy_score(test['Transported'], sclf.predict(test[cols].values))"
   ]
  }
 ],
 "metadata": {
  "kernelspec": {
   "display_name": "Python 3 (ipykernel)",
   "language": "python",
   "name": "python3"
  },
  "language_info": {
   "codemirror_mode": {
    "name": "ipython",
    "version": 3
   },
   "file_extension": ".py",
   "mimetype": "text/x-python",
   "name": "python",
   "nbconvert_exporter": "python",
   "pygments_lexer": "ipython3",
   "version": "3.9.12"
  }
 },
 "nbformat": 4,
 "nbformat_minor": 5
}
